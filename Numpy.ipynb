{
 "cells": [
  {
   "cell_type": "code",
   "execution_count": 1,
   "metadata": {
    "id": "DQ9Q6MYX2U0p"
   },
   "outputs": [],
   "source": [
    "import numpy as np #alias -> np"
   ]
  },
  {
   "cell_type": "code",
   "execution_count": null,
   "metadata": {
    "colab": {
     "base_uri": "https://localhost:8080/"
    },
    "executionInfo": {
     "elapsed": 13,
     "status": "ok",
     "timestamp": 1747758518570,
     "user": {
      "displayName": "Garvita Aggarwal",
      "userId": "13257208684268379062"
     },
     "user_tz": -330
    },
    "id": "jEKeixI6wSXX",
    "outputId": "8f4eb93a-09fc-451e-fad7-04e479257bab"
   },
   "outputs": [
    {
     "data": {
      "text/plain": [
       "array([1, 2, 3])"
      ]
     },
     "execution_count": 4,
     "metadata": {},
     "output_type": "execute_result"
    }
   ],
   "source": [
    "arr = np.array([1,2,3])\n",
    "arr"
   ]
  },
  {
   "cell_type": "code",
   "execution_count": null,
   "metadata": {
    "colab": {
     "base_uri": "https://localhost:8080/"
    },
    "executionInfo": {
     "elapsed": 16,
     "status": "ok",
     "timestamp": 1747758518588,
     "user": {
      "displayName": "Garvita Aggarwal",
      "userId": "13257208684268379062"
     },
     "user_tz": -330
    },
    "id": "SzUYnbTHwSJT",
    "outputId": "f2bfc654-f8e0-479e-e158-49d7f0079d02"
   },
   "outputs": [
    {
     "data": {
      "text/plain": [
       "1"
      ]
     },
     "execution_count": 5,
     "metadata": {},
     "output_type": "execute_result"
    }
   ],
   "source": [
    "# dimensions and shape of an array\n",
    "arr.ndim"
   ]
  },
  {
   "cell_type": "code",
   "execution_count": null,
   "metadata": {
    "colab": {
     "base_uri": "https://localhost:8080/"
    },
    "executionInfo": {
     "elapsed": 13,
     "status": "ok",
     "timestamp": 1747758518603,
     "user": {
      "displayName": "Garvita Aggarwal",
      "userId": "13257208684268379062"
     },
     "user_tz": -330
    },
    "id": "Edo8L868wSAD",
    "outputId": "28223d91-2eb0-46fb-ec7d-4d923219cb50"
   },
   "outputs": [
    {
     "data": {
      "text/plain": [
       "0"
      ]
     },
     "execution_count": 6,
     "metadata": {},
     "output_type": "execute_result"
    }
   ],
   "source": [
    "arr =np.array(34)\n",
    "arr.ndim"
   ]
  },
  {
   "cell_type": "code",
   "execution_count": null,
   "metadata": {
    "colab": {
     "base_uri": "https://localhost:8080/"
    },
    "executionInfo": {
     "elapsed": 14,
     "status": "ok",
     "timestamp": 1747758518616,
     "user": {
      "displayName": "Garvita Aggarwal",
      "userId": "13257208684268379062"
     },
     "user_tz": -330
    },
    "id": "ihACDVX2wRzl",
    "outputId": "5eb288be-0471-4b05-83ae-dbacc1bbd62f"
   },
   "outputs": [
    {
     "data": {
      "text/plain": [
       "(1, 1, 1, 0)"
      ]
     },
     "execution_count": 7,
     "metadata": {},
     "output_type": "execute_result"
    }
   ],
   "source": [
    "a = np.array([[[[]]]])\n",
    "a.ndim\n",
    "a.shape"
   ]
  },
  {
   "cell_type": "code",
   "execution_count": null,
   "metadata": {
    "id": "jqAVORFQ2jrC"
   },
   "outputs": [],
   "source": [
    "range = np.arange(1,10, 2) #start, stop, step"
   ]
  },
  {
   "cell_type": "code",
   "execution_count": null,
   "metadata": {
    "colab": {
     "base_uri": "https://localhost:8080/"
    },
    "executionInfo": {
     "elapsed": 139,
     "status": "ok",
     "timestamp": 1747758518776,
     "user": {
      "displayName": "Garvita Aggarwal",
      "userId": "13257208684268379062"
     },
     "user_tz": -330
    },
    "id": "-NIelVek9bGE",
    "outputId": "7da03a12-ba7b-44f4-d747-30e3e0f68b50"
   },
   "outputs": [
    {
     "data": {
      "text/plain": [
       "array([1, 3, 5, 7, 9])"
      ]
     },
     "execution_count": 9,
     "metadata": {},
     "output_type": "execute_result"
    }
   ],
   "source": [
    "range"
   ]
  },
  {
   "cell_type": "code",
   "execution_count": null,
   "metadata": {
    "colab": {
     "base_uri": "https://localhost:8080/"
    },
    "executionInfo": {
     "elapsed": 58,
     "status": "ok",
     "timestamp": 1747758518781,
     "user": {
      "displayName": "Garvita Aggarwal",
      "userId": "13257208684268379062"
     },
     "user_tz": -330
    },
    "id": "sjFjKb9t9b0R",
    "outputId": "0676a774-0a52-4453-8f36-a3373b57cba2"
   },
   "outputs": [
    {
     "data": {
      "text/plain": [
       "array([0.        , 0.11111111, 0.22222222, 0.33333333, 0.44444444,\n",
       "       0.55555556, 0.66666667, 0.77777778, 0.88888889, 1.        ])"
      ]
     },
     "execution_count": 10,
     "metadata": {},
     "output_type": "execute_result"
    }
   ],
   "source": [
    "arr = np.linspace(0,1,10) #start, stop, number of values\n",
    "arr"
   ]
  },
  {
   "cell_type": "code",
   "execution_count": null,
   "metadata": {
    "colab": {
     "base_uri": "https://localhost:8080/"
    },
    "executionInfo": {
     "elapsed": 22,
     "status": "ok",
     "timestamp": 1747758518805,
     "user": {
      "displayName": "Garvita Aggarwal",
      "userId": "13257208684268379062"
     },
     "user_tz": -330
    },
    "id": "C0_i_5oM91Hs",
    "outputId": "3b70d080-68b5-472e-e337-c19990f15043"
   },
   "outputs": [
    {
     "data": {
      "text/plain": [
       "array([  10., 1000.])"
      ]
     },
     "execution_count": 11,
     "metadata": {},
     "output_type": "execute_result"
    }
   ],
   "source": [
    "arr = np.logspace(1, 3, 2) #logarithmic scale array -> 10^1 -> 10^3 ... 3 points\n",
    "arr"
   ]
  },
  {
   "cell_type": "code",
   "execution_count": null,
   "metadata": {
    "id": "d0bdTRqM-UBj"
   },
   "outputs": [],
   "source": [
    "# np.logspace(start, ending -> powers, 3 -> number of values)"
   ]
  },
  {
   "cell_type": "code",
   "execution_count": null,
   "metadata": {
    "colab": {
     "base_uri": "https://localhost:8080/"
    },
    "executionInfo": {
     "elapsed": 102,
     "status": "ok",
     "timestamp": 1747758518924,
     "user": {
      "displayName": "Garvita Aggarwal",
      "userId": "13257208684268379062"
     },
     "user_tz": -330
    },
    "id": "b-1Rf1ko-mfX",
    "outputId": "49ab9cfe-fb0d-4904-e77a-9c26052d666b"
   },
   "outputs": [
    {
     "data": {
      "text/plain": [
       "array([0., 0., 0., 0., 0.])"
      ]
     },
     "execution_count": 13,
     "metadata": {},
     "output_type": "execute_result"
    }
   ],
   "source": [
    "# np.zeros -> array full of zeros\n",
    "arr = np.zeros(5)\n",
    "arr"
   ]
  },
  {
   "cell_type": "code",
   "execution_count": null,
   "metadata": {
    "colab": {
     "base_uri": "https://localhost:8080/"
    },
    "executionInfo": {
     "elapsed": 12,
     "status": "ok",
     "timestamp": 1747758518940,
     "user": {
      "displayName": "Garvita Aggarwal",
      "userId": "13257208684268379062"
     },
     "user_tz": -330
    },
    "id": "F76IEpR2-r5Z",
    "outputId": "f6f21759-aa64-47f3-b110-c45893b5c186"
   },
   "outputs": [
    {
     "data": {
      "text/plain": [
       "array([[0., 0., 0.],\n",
       "       [0., 0., 0.]])"
      ]
     },
     "execution_count": 14,
     "metadata": {},
     "output_type": "execute_result"
    }
   ],
   "source": [
    "arr = np.zeros([2,3]) #array full of zeros\n",
    "arr\n"
   ]
  },
  {
   "cell_type": "code",
   "execution_count": null,
   "metadata": {
    "colab": {
     "base_uri": "https://localhost:8080/"
    },
    "executionInfo": {
     "elapsed": 9,
     "status": "ok",
     "timestamp": 1747758518951,
     "user": {
      "displayName": "Garvita Aggarwal",
      "userId": "13257208684268379062"
     },
     "user_tz": -330
    },
    "id": "rsFCrMSq-_OA",
    "outputId": "bfa2740c-a439-48f5-9da6-4109802ba274"
   },
   "outputs": [
    {
     "data": {
      "text/plain": [
       "array([[1., 1.],\n",
       "       [1., 1.],\n",
       "       [1., 1.],\n",
       "       [1., 1.]])"
      ]
     },
     "execution_count": 15,
     "metadata": {},
     "output_type": "execute_result"
    }
   ],
   "source": [
    "arr = np.ones([4,2]) #array full of ones.\n",
    "arr"
   ]
  },
  {
   "cell_type": "code",
   "execution_count": null,
   "metadata": {
    "colab": {
     "base_uri": "https://localhost:8080/"
    },
    "executionInfo": {
     "elapsed": 9,
     "status": "ok",
     "timestamp": 1747758518962,
     "user": {
      "displayName": "Garvita Aggarwal",
      "userId": "13257208684268379062"
     },
     "user_tz": -330
    },
    "id": "zKB7G9ri_3V8",
    "outputId": "e3f01307-9aca-486d-8167-32fd027f8db2"
   },
   "outputs": [
    {
     "data": {
      "text/plain": [
       "array([2, 2, 2, 2, 2, 2, 2, 2, 2, 2])"
      ]
     },
     "execution_count": 16,
     "metadata": {},
     "output_type": "execute_result"
    }
   ],
   "source": [
    "arr = np.full(10, 2) #-> create an array full of any value\n",
    "arr"
   ]
  },
  {
   "cell_type": "code",
   "execution_count": null,
   "metadata": {
    "colab": {
     "base_uri": "https://localhost:8080/"
    },
    "executionInfo": {
     "elapsed": 10,
     "status": "ok",
     "timestamp": 1747758518973,
     "user": {
      "displayName": "Garvita Aggarwal",
      "userId": "13257208684268379062"
     },
     "user_tz": -330
    },
    "id": "hYGDHo97AapA",
    "outputId": "a5bf8110-76ed-46bf-c2d6-56159cce272f"
   },
   "outputs": [
    {
     "data": {
      "text/plain": [
       "array([[7.1, 7.1, 7.1, 7.1],\n",
       "       [7.1, 7.1, 7.1, 7.1]])"
      ]
     },
     "execution_count": 17,
     "metadata": {},
     "output_type": "execute_result"
    }
   ],
   "source": [
    "arr = np.full([2,4], 7.1) #[row, column], default value\n",
    "arr"
   ]
  },
  {
   "cell_type": "code",
   "execution_count": null,
   "metadata": {
    "colab": {
     "base_uri": "https://localhost:8080/"
    },
    "executionInfo": {
     "elapsed": 15,
     "status": "ok",
     "timestamp": 1747758518990,
     "user": {
      "displayName": "Garvita Aggarwal",
      "userId": "13257208684268379062"
     },
     "user_tz": -330
    },
    "id": "26GBA6mHAwoq",
    "outputId": "9940ae83-a1a8-4f80-f551-e475df0bbf83"
   },
   "outputs": [
    {
     "data": {
      "text/plain": [
       "array([[0., 0., 0.],\n",
       "       [0., 0., 0.]])"
      ]
     },
     "execution_count": 18,
     "metadata": {},
     "output_type": "execute_result"
    }
   ],
   "source": [
    "arr = np.empty([2,3]) #Uninitialized array -> create an array without setting any values\n",
    "arr"
   ]
  },
  {
   "cell_type": "code",
   "execution_count": null,
   "metadata": {
    "colab": {
     "base_uri": "https://localhost:8080/"
    },
    "executionInfo": {
     "elapsed": 48,
     "status": "ok",
     "timestamp": 1747758519040,
     "user": {
      "displayName": "Garvita Aggarwal",
      "userId": "13257208684268379062"
     },
     "user_tz": -330
    },
    "id": "_ekmkQTnBI_Q",
    "outputId": "1c79699f-cc9c-460c-cb9e-c161c4ad1ba4"
   },
   "outputs": [
    {
     "data": {
      "text/plain": [
       "array([0.62348907, 0.31973819, 0.96809577, 0.13022212, 0.46859814,\n",
       "       0.88857456, 0.2449654 , 0.53686729, 0.7200564 , 0.41848488])"
      ]
     },
     "execution_count": 19,
     "metadata": {},
     "output_type": "execute_result"
    }
   ],
   "source": [
    "arr = np.random.rand(10)\n",
    "arr #-> random floats(0 to 1)"
   ]
  },
  {
   "cell_type": "code",
   "execution_count": null,
   "metadata": {
    "colab": {
     "base_uri": "https://localhost:8080/"
    },
    "executionInfo": {
     "elapsed": 25,
     "status": "ok",
     "timestamp": 1747758519064,
     "user": {
      "displayName": "Garvita Aggarwal",
      "userId": "13257208684268379062"
     },
     "user_tz": -330
    },
    "id": "BFF_HnECBYmI",
    "outputId": "310d4ad6-fc61-4312-f813-c8448c987199"
   },
   "outputs": [
    {
     "data": {
      "text/plain": [
       "array([[0.44835859, 0.63997847, 0.38655507],\n",
       "       [0.00720327, 0.45839394, 0.50871393]])"
      ]
     },
     "execution_count": 20,
     "metadata": {},
     "output_type": "execute_result"
    }
   ],
   "source": [
    "arr = np.random.rand(2,3)\n",
    "arr"
   ]
  },
  {
   "cell_type": "code",
   "execution_count": null,
   "metadata": {
    "colab": {
     "base_uri": "https://localhost:8080/"
    },
    "executionInfo": {
     "elapsed": 13,
     "status": "ok",
     "timestamp": 1747758519085,
     "user": {
      "displayName": "Garvita Aggarwal",
      "userId": "13257208684268379062"
     },
     "user_tz": -330
    },
    "id": "AI9FIpHYBg15",
    "outputId": "203905da-7846-4512-cb6f-010b80d2cb07"
   },
   "outputs": [
    {
     "data": {
      "text/plain": [
       "array([[1.65576131, 0.11674059, 0.54939477],\n",
       "       [1.40401884, 0.16041226, 0.63944705]])"
      ]
     },
     "execution_count": 21,
     "metadata": {},
     "output_type": "execute_result"
    }
   ],
   "source": [
    "arr = np.random.randn(2,3)\n",
    "arr #-> random floats from standard normal distribution"
   ]
  },
  {
   "cell_type": "code",
   "execution_count": null,
   "metadata": {
    "colab": {
     "base_uri": "https://localhost:8080/"
    },
    "executionInfo": {
     "elapsed": 14,
     "status": "ok",
     "timestamp": 1747758519100,
     "user": {
      "displayName": "Garvita Aggarwal",
      "userId": "13257208684268379062"
     },
     "user_tz": -330
    },
    "id": "GUa10PgrCGOH",
    "outputId": "3a60a73e-bedd-424e-f8aa-1c2f44809e20"
   },
   "outputs": [
    {
     "data": {
      "text/plain": [
       "48"
      ]
     },
     "execution_count": 22,
     "metadata": {},
     "output_type": "execute_result"
    }
   ],
   "source": [
    "arr = np.random.randint(10, 100) #->start, stop, dimension/number of values\n",
    "arr#-> random integers"
   ]
  },
  {
   "cell_type": "code",
   "execution_count": null,
   "metadata": {
    "colab": {
     "base_uri": "https://localhost:8080/"
    },
    "executionInfo": {
     "elapsed": 23,
     "status": "ok",
     "timestamp": 1747758519125,
     "user": {
      "displayName": "Garvita Aggarwal",
      "userId": "13257208684268379062"
     },
     "user_tz": -330
    },
    "id": "DrwjsYXTCX9t",
    "outputId": "cfcaf7e3-396d-4a59-874a-6979ef819525"
   },
   "outputs": [
    {
     "data": {
      "text/plain": [
       "array([[28, 37, 44],\n",
       "       [74, 17, 46]])"
      ]
     },
     "execution_count": 23,
     "metadata": {},
     "output_type": "execute_result"
    }
   ],
   "source": [
    "arr = np.random.randint(10, 100, size = (2,3)) #->start, stop, dimension/number of values\n",
    "arr"
   ]
  },
  {
   "cell_type": "markdown",
   "metadata": {
    "id": "Je5NCqWDDELr"
   },
   "source": [
    "## Numpy Data Types and Type Casting"
   ]
  },
  {
   "cell_type": "code",
   "execution_count": null,
   "metadata": {
    "colab": {
     "base_uri": "https://localhost:8080/"
    },
    "executionInfo": {
     "elapsed": 70,
     "status": "ok",
     "timestamp": 1747758519199,
     "user": {
      "displayName": "Garvita Aggarwal",
      "userId": "13257208684268379062"
     },
     "user_tz": -330
    },
    "id": "7fSVCocVCqb6",
    "outputId": "d294113e-5a0d-4417-e5f0-813ecbf5c2a7"
   },
   "outputs": [
    {
     "data": {
      "text/plain": [
       "array([1. , 2. , 3.1, 4. , 5. ])"
      ]
     },
     "execution_count": 24,
     "metadata": {},
     "output_type": "execute_result"
    }
   ],
   "source": [
    "arr = np.array([1,2,3.1,4,5])\n",
    "arr"
   ]
  },
  {
   "cell_type": "code",
   "execution_count": null,
   "metadata": {
    "colab": {
     "base_uri": "https://localhost:8080/"
    },
    "executionInfo": {
     "elapsed": 46,
     "status": "ok",
     "timestamp": 1747758519237,
     "user": {
      "displayName": "Garvita Aggarwal",
      "userId": "13257208684268379062"
     },
     "user_tz": -330
    },
    "id": "tlGt5L4GZebG",
    "outputId": "3f26cfb6-a499-468b-caaf-da24c86777ca"
   },
   "outputs": [
    {
     "data": {
      "text/plain": [
       "dtype('float64')"
      ]
     },
     "execution_count": 25,
     "metadata": {},
     "output_type": "execute_result"
    }
   ],
   "source": [
    "arr.dtype"
   ]
  },
  {
   "cell_type": "code",
   "execution_count": null,
   "metadata": {
    "colab": {
     "base_uri": "https://localhost:8080/"
    },
    "executionInfo": {
     "elapsed": 16,
     "status": "ok",
     "timestamp": 1747758519254,
     "user": {
      "displayName": "Garvita Aggarwal",
      "userId": "13257208684268379062"
     },
     "user_tz": -330
    },
    "id": "_VO47A9nakMC",
    "outputId": "e3b73704-6e4d-4112-c93a-cf471712f323"
   },
   "outputs": [
    {
     "data": {
      "text/plain": [
       "array(['string', '1', '2', '5.6'], dtype='<U32')"
      ]
     },
     "execution_count": 26,
     "metadata": {},
     "output_type": "execute_result"
    }
   ],
   "source": [
    "lst = [\"string\", 1, 2, 5.6]\n",
    "arr = np.array(lst)\n",
    "arr"
   ]
  },
  {
   "cell_type": "code",
   "execution_count": null,
   "metadata": {
    "colab": {
     "base_uri": "https://localhost:8080/"
    },
    "executionInfo": {
     "elapsed": 13,
     "status": "ok",
     "timestamp": 1747758519269,
     "user": {
      "displayName": "Garvita Aggarwal",
      "userId": "13257208684268379062"
     },
     "user_tz": -330
    },
    "id": "-_QglKd4a6G-",
    "outputId": "199264c2-2c73-4d7c-a6b8-38109efd7aa4"
   },
   "outputs": [
    {
     "data": {
      "text/plain": [
       "array(['1', '2', '3.1', '4', '5'], dtype='<U32')"
      ]
     },
     "execution_count": 27,
     "metadata": {},
     "output_type": "execute_result"
    }
   ],
   "source": [
    "arr = np.array([\"1\",2,3.1,4,5])\n",
    "arr"
   ]
  },
  {
   "cell_type": "code",
   "execution_count": null,
   "metadata": {
    "colab": {
     "base_uri": "https://localhost:8080/"
    },
    "executionInfo": {
     "elapsed": 13,
     "status": "ok",
     "timestamp": 1747758519283,
     "user": {
      "displayName": "Garvita Aggarwal",
      "userId": "13257208684268379062"
     },
     "user_tz": -330
    },
    "id": "BVgoSvPba99p",
    "outputId": "697b7f15-42e1-424a-bd0f-e0f2d3e1ecf5"
   },
   "outputs": [
    {
     "data": {
      "text/plain": [
       "dtype('<U32')"
      ]
     },
     "execution_count": 28,
     "metadata": {},
     "output_type": "execute_result"
    }
   ],
   "source": [
    "arr.dtype"
   ]
  },
  {
   "cell_type": "code",
   "execution_count": null,
   "metadata": {
    "id": "mfSxPHeub3Sc"
   },
   "outputs": [],
   "source": [
    "arr = np.array([1.1, 2.6 , 3 , 4], dtype = np.int64)"
   ]
  },
  {
   "cell_type": "code",
   "execution_count": null,
   "metadata": {
    "colab": {
     "base_uri": "https://localhost:8080/"
    },
    "executionInfo": {
     "elapsed": 84,
     "status": "ok",
     "timestamp": 1747758519374,
     "user": {
      "displayName": "Garvita Aggarwal",
      "userId": "13257208684268379062"
     },
     "user_tz": -330
    },
    "id": "sI2FAcfUcFo1",
    "outputId": "e1045a76-ca4d-4f18-9651-e1e0c1e97277"
   },
   "outputs": [
    {
     "data": {
      "text/plain": [
       "dtype('int64')"
      ]
     },
     "execution_count": 30,
     "metadata": {},
     "output_type": "execute_result"
    }
   ],
   "source": [
    "arr.dtype"
   ]
  },
  {
   "cell_type": "code",
   "execution_count": null,
   "metadata": {
    "colab": {
     "base_uri": "https://localhost:8080/"
    },
    "executionInfo": {
     "elapsed": 20,
     "status": "ok",
     "timestamp": 1747758519399,
     "user": {
      "displayName": "Garvita Aggarwal",
      "userId": "13257208684268379062"
     },
     "user_tz": -330
    },
    "id": "Be4zMCILcHF1",
    "outputId": "f4e2a67c-a540-4f12-b64f-b5c6f4969ddc"
   },
   "outputs": [
    {
     "data": {
      "text/plain": [
       "array([1, 2, 3, 4])"
      ]
     },
     "execution_count": 31,
     "metadata": {},
     "output_type": "execute_result"
    }
   ],
   "source": [
    "arr"
   ]
  },
  {
   "cell_type": "code",
   "execution_count": null,
   "metadata": {
    "id": "h0GyW_t6cZgP"
   },
   "outputs": [],
   "source": [
    "#type casting -> astype()"
   ]
  },
  {
   "cell_type": "code",
   "execution_count": null,
   "metadata": {
    "colab": {
     "base_uri": "https://localhost:8080/"
    },
    "executionInfo": {
     "elapsed": 16,
     "status": "ok",
     "timestamp": 1747758519422,
     "user": {
      "displayName": "Garvita Aggarwal",
      "userId": "13257208684268379062"
     },
     "user_tz": -330
    },
    "id": "K39NpAHlc23d",
    "outputId": "25306140-53d5-4f76-b476-5ca7928a1fb8"
   },
   "outputs": [
    {
     "data": {
      "text/plain": [
       "dtype('int64')"
      ]
     },
     "execution_count": 33,
     "metadata": {},
     "output_type": "execute_result"
    }
   ],
   "source": [
    "arr = np.array([1,2,3])\n",
    "arr.dtype"
   ]
  },
  {
   "cell_type": "code",
   "execution_count": null,
   "metadata": {
    "colab": {
     "base_uri": "https://localhost:8080/"
    },
    "executionInfo": {
     "elapsed": 25,
     "status": "ok",
     "timestamp": 1747758519448,
     "user": {
      "displayName": "Garvita Aggarwal",
      "userId": "13257208684268379062"
     },
     "user_tz": -330
    },
    "id": "WjJMWZFFdCWk",
    "outputId": "141c5539-f75e-4dbb-bae5-cdf88c2f59ec"
   },
   "outputs": [
    {
     "data": {
      "text/plain": [
       "array([1., 2., 3.])"
      ]
     },
     "execution_count": 34,
     "metadata": {},
     "output_type": "execute_result"
    }
   ],
   "source": [
    "new_arr = arr.astype(np.float64)\n",
    "new_arr"
   ]
  },
  {
   "cell_type": "code",
   "execution_count": null,
   "metadata": {
    "colab": {
     "base_uri": "https://localhost:8080/"
    },
    "executionInfo": {
     "elapsed": 22,
     "status": "ok",
     "timestamp": 1747758519507,
     "user": {
      "displayName": "Garvita Aggarwal",
      "userId": "13257208684268379062"
     },
     "user_tz": -330
    },
    "id": "fPTcyL_0dMBJ",
    "outputId": "6f47ecdc-7cb8-463d-8459-82c4d7c98925"
   },
   "outputs": [
    {
     "data": {
      "text/plain": [
       "dtype('float64')"
      ]
     },
     "execution_count": 35,
     "metadata": {},
     "output_type": "execute_result"
    }
   ],
   "source": [
    "new_arr.dtype"
   ]
  },
  {
   "cell_type": "code",
   "execution_count": null,
   "metadata": {
    "colab": {
     "base_uri": "https://localhost:8080/"
    },
    "executionInfo": {
     "elapsed": 17,
     "status": "ok",
     "timestamp": 1747758519528,
     "user": {
      "displayName": "Garvita Aggarwal",
      "userId": "13257208684268379062"
     },
     "user_tz": -330
    },
    "id": "w5-04JWddPvd",
    "outputId": "ac70cd76-5d4d-4f24-dd21-6a294d2f9ef0"
   },
   "outputs": [
    {
     "data": {
      "text/plain": [
       "array([1, 2, 3])"
      ]
     },
     "execution_count": 36,
     "metadata": {},
     "output_type": "execute_result"
    }
   ],
   "source": [
    "new_arr2 = new_arr.astype(np.int64)\n",
    "new_arr2"
   ]
  },
  {
   "cell_type": "code",
   "execution_count": null,
   "metadata": {
    "colab": {
     "base_uri": "https://localhost:8080/",
     "height": 193
    },
    "executionInfo": {
     "elapsed": 5,
     "status": "error",
     "timestamp": 1747758519535,
     "user": {
      "displayName": "Garvita Aggarwal",
      "userId": "13257208684268379062"
     },
     "user_tz": -330
    },
    "id": "NR44Nfg3dW-n",
    "outputId": "b73cbf01-68d2-473e-ca77-c989fc23ef6f"
   },
   "outputs": [
    {
     "ename": "ValueError",
     "evalue": "invalid literal for int() with base 10: np.str_('hello')",
     "output_type": "error",
     "traceback": [
      "\u001b[0;31m---------------------------------------------------------------------------\u001b[0m",
      "\u001b[0;31mValueError\u001b[0m                                Traceback (most recent call last)",
      "\u001b[0;32m<ipython-input-37-5f1547a7245a>\u001b[0m in \u001b[0;36m<cell line: 0>\u001b[0;34m()\u001b[0m\n\u001b[1;32m      2\u001b[0m \u001b[0;34m\u001b[0m\u001b[0m\n\u001b[1;32m      3\u001b[0m \u001b[0marr\u001b[0m \u001b[0;34m=\u001b[0m \u001b[0mnp\u001b[0m\u001b[0;34m.\u001b[0m\u001b[0marray\u001b[0m\u001b[0;34m(\u001b[0m\u001b[0;34m[\u001b[0m\u001b[0;34m\"1\"\u001b[0m\u001b[0;34m,\u001b[0m \u001b[0;34m\"2\"\u001b[0m\u001b[0;34m,\u001b[0m \u001b[0;34m\"hello\"\u001b[0m\u001b[0;34m]\u001b[0m\u001b[0;34m)\u001b[0m\u001b[0;34m\u001b[0m\u001b[0;34m\u001b[0m\u001b[0m\n\u001b[0;32m----> 4\u001b[0;31m \u001b[0marr2\u001b[0m \u001b[0;34m=\u001b[0m \u001b[0marr\u001b[0m\u001b[0;34m.\u001b[0m\u001b[0mastype\u001b[0m\u001b[0;34m(\u001b[0m\u001b[0mnp\u001b[0m\u001b[0;34m.\u001b[0m\u001b[0mint64\u001b[0m\u001b[0;34m)\u001b[0m\u001b[0;34m\u001b[0m\u001b[0;34m\u001b[0m\u001b[0m\n\u001b[0m\u001b[1;32m      5\u001b[0m \u001b[0marr2\u001b[0m\u001b[0;34m\u001b[0m\u001b[0;34m\u001b[0m\u001b[0m\n",
      "\u001b[0;31mValueError\u001b[0m: invalid literal for int() with base 10: np.str_('hello')"
     ]
    }
   ],
   "source": [
    "# Type Casting errors:\n",
    "\n",
    "arr = np.array([\"1\", \"2\", \"hello\"])\n",
    "arr2 = arr.astype(np.int64)\n",
    "arr2\n"
   ]
  },
  {
   "cell_type": "code",
   "execution_count": null,
   "metadata": {
    "id": "eOjizz4WdeXJ"
   },
   "outputs": [],
   "source": [
    "arr = np.array([[1,2,3],\n",
    "                [4,5,6]])"
   ]
  },
  {
   "cell_type": "code",
   "execution_count": null,
   "metadata": {
    "colab": {
     "base_uri": "https://localhost:8080/"
    },
    "executionInfo": {
     "elapsed": 12,
     "status": "ok",
     "timestamp": 1747758519854,
     "user": {
      "displayName": "Garvita Aggarwal",
      "userId": "13257208684268379062"
     },
     "user_tz": -330
    },
    "id": "VrKGBa6MeeAQ",
    "outputId": "605bf1a5-fc44-414c-eb4c-c0ad047835a4"
   },
   "outputs": [
    {
     "data": {
      "text/plain": [
       "array([[1, 2, 3],\n",
       "       [4, 5, 6]])"
      ]
     },
     "execution_count": 39,
     "metadata": {},
     "output_type": "execute_result"
    }
   ],
   "source": [
    "arr"
   ]
  },
  {
   "cell_type": "code",
   "execution_count": null,
   "metadata": {
    "colab": {
     "base_uri": "https://localhost:8080/"
    },
    "executionInfo": {
     "elapsed": 13,
     "status": "ok",
     "timestamp": 1747758519871,
     "user": {
      "displayName": "Garvita Aggarwal",
      "userId": "13257208684268379062"
     },
     "user_tz": -330
    },
    "id": "Ka6NhQj3elo4",
    "outputId": "9605824d-8998-448b-b9b8-0000724aee57"
   },
   "outputs": [
    {
     "data": {
      "text/plain": [
       "2"
      ]
     },
     "execution_count": 40,
     "metadata": {},
     "output_type": "execute_result"
    }
   ],
   "source": [
    "arr.ndim"
   ]
  },
  {
   "cell_type": "code",
   "execution_count": null,
   "metadata": {
    "colab": {
     "base_uri": "https://localhost:8080/"
    },
    "executionInfo": {
     "elapsed": 26,
     "status": "ok",
     "timestamp": 1747758519908,
     "user": {
      "displayName": "Garvita Aggarwal",
      "userId": "13257208684268379062"
     },
     "user_tz": -330
    },
    "id": "-4dnXiSjenMX",
    "outputId": "f3a57913-d3a3-4cec-aa59-69682922e850"
   },
   "outputs": [
    {
     "data": {
      "text/plain": [
       "(2, 3)"
      ]
     },
     "execution_count": 41,
     "metadata": {},
     "output_type": "execute_result"
    }
   ],
   "source": [
    "arr.shape"
   ]
  },
  {
   "cell_type": "code",
   "execution_count": null,
   "metadata": {
    "colab": {
     "base_uri": "https://localhost:8080/"
    },
    "executionInfo": {
     "elapsed": 16,
     "status": "ok",
     "timestamp": 1747758519928,
     "user": {
      "displayName": "Garvita Aggarwal",
      "userId": "13257208684268379062"
     },
     "user_tz": -330
    },
    "id": "nWw4qszMe8x7",
    "outputId": "63649f5a-6614-4b50-9a6f-7428ec34ca9a"
   },
   "outputs": [
    {
     "data": {
      "text/plain": [
       "6"
      ]
     },
     "execution_count": 42,
     "metadata": {},
     "output_type": "execute_result"
    }
   ],
   "source": [
    "arr.size"
   ]
  },
  {
   "cell_type": "code",
   "execution_count": null,
   "metadata": {
    "colab": {
     "base_uri": "https://localhost:8080/"
    },
    "executionInfo": {
     "elapsed": 52,
     "status": "ok",
     "timestamp": 1747758519983,
     "user": {
      "displayName": "Garvita Aggarwal",
      "userId": "13257208684268379062"
     },
     "user_tz": -330
    },
    "id": "q0NTb9SpfDej",
    "outputId": "0f249147-7742-424b-c45d-e94b98fcb3c2"
   },
   "outputs": [
    {
     "data": {
      "text/plain": [
       "8"
      ]
     },
     "execution_count": 43,
     "metadata": {},
     "output_type": "execute_result"
    }
   ],
   "source": [
    "arr.itemsize"
   ]
  },
  {
   "cell_type": "markdown",
   "metadata": {
    "id": "0h-bXy-dfaKn"
   },
   "source": [
    "Array Reshaping -> Reshape, Ravel, flatten"
   ]
  },
  {
   "cell_type": "code",
   "execution_count": null,
   "metadata": {
    "colab": {
     "base_uri": "https://localhost:8080/"
    },
    "executionInfo": {
     "elapsed": 12,
     "status": "ok",
     "timestamp": 1747758519996,
     "user": {
      "displayName": "Garvita Aggarwal",
      "userId": "13257208684268379062"
     },
     "user_tz": -330
    },
    "id": "KdgHeGFFfRz0",
    "outputId": "3e199b54-0de2-499f-bc46-5d83ea913026"
   },
   "outputs": [
    {
     "name": "stdout",
     "output_type": "stream",
     "text": [
      "[[1 2 3]\n",
      " [4 5 6]]\n"
     ]
    }
   ],
   "source": [
    "# Reshape\n",
    "arr = np.array([1,2,3,4,5,6])\n",
    "reshaped = arr.reshape(2,3)\n",
    "print(reshaped)"
   ]
  },
  {
   "cell_type": "code",
   "execution_count": null,
   "metadata": {
    "id": "bXz9BorOmxy6"
   },
   "outputs": [],
   "source": [
    "reshape2 = reshaped.reshape(3,2)"
   ]
  },
  {
   "cell_type": "code",
   "execution_count": null,
   "metadata": {
    "colab": {
     "base_uri": "https://localhost:8080/"
    },
    "executionInfo": {
     "elapsed": 17,
     "status": "ok",
     "timestamp": 1747758520053,
     "user": {
      "displayName": "Garvita Aggarwal",
      "userId": "13257208684268379062"
     },
     "user_tz": -330
    },
    "id": "rpf8M_hOm8d4",
    "outputId": "dc2180f1-be22-4934-ba54-76a02de5ca4b"
   },
   "outputs": [
    {
     "data": {
      "text/plain": [
       "array([[1, 2],\n",
       "       [3, 4],\n",
       "       [5, 6]])"
      ]
     },
     "execution_count": 46,
     "metadata": {},
     "output_type": "execute_result"
    }
   ],
   "source": [
    "reshape2"
   ]
  },
  {
   "cell_type": "code",
   "execution_count": null,
   "metadata": {
    "colab": {
     "base_uri": "https://localhost:8080/"
    },
    "executionInfo": {
     "elapsed": 108,
     "status": "ok",
     "timestamp": 1747758571160,
     "user": {
      "displayName": "Garvita Aggarwal",
      "userId": "13257208684268379062"
     },
     "user_tz": -330
    },
    "id": "7UMTgZSwm-A4",
    "outputId": "6928fa2b-157c-4ace-db9e-f4791e9f3fef"
   },
   "outputs": [
    {
     "data": {
      "text/plain": [
       "array([100,   2,   3,   4,   5,   6])"
      ]
     },
     "execution_count": 147,
     "metadata": {},
     "output_type": "execute_result"
    }
   ],
   "source": [
    "#ravel -> convert 1D array\n",
    "ravel = reshape2.ravel()\n",
    "ravel"
   ]
  },
  {
   "cell_type": "code",
   "execution_count": null,
   "metadata": {
    "colab": {
     "base_uri": "https://localhost:8080/"
    },
    "executionInfo": {
     "elapsed": 16,
     "status": "ok",
     "timestamp": 1747758520077,
     "user": {
      "displayName": "Garvita Aggarwal",
      "userId": "13257208684268379062"
     },
     "user_tz": -330
    },
    "id": "x0vdb-Y8nctI",
    "outputId": "bb458a29-19d7-49eb-f9da-01aacd09d398"
   },
   "outputs": [
    {
     "name": "stdout",
     "output_type": "stream",
     "text": [
      "[100   2   3   4   5   6]\n",
      "[[100   2]\n",
      " [  3   4]\n",
      " [  5   6]]\n"
     ]
    }
   ],
   "source": [
    "ravel[0] = 100\n",
    "print(ravel)\n",
    "print(reshape2)"
   ]
  },
  {
   "cell_type": "code",
   "execution_count": null,
   "metadata": {
    "colab": {
     "base_uri": "https://localhost:8080/"
    },
    "executionInfo": {
     "elapsed": 43,
     "status": "ok",
     "timestamp": 1747758520182,
     "user": {
      "displayName": "Garvita Aggarwal",
      "userId": "13257208684268379062"
     },
     "user_tz": -330
    },
    "id": "HwKxPauanI8u",
    "outputId": "151b8abd-c4e8-4c2d-f424-875ab7e39e89"
   },
   "outputs": [
    {
     "data": {
      "text/plain": [
       "array([100,   2,   3,   4,   5,   6])"
      ]
     },
     "execution_count": 49,
     "metadata": {},
     "output_type": "execute_result"
    }
   ],
   "source": [
    "#flatten -> to 1D array\n",
    "# -> returns a copy of the array\n",
    "\n",
    "flat = reshape2.flatten()\n",
    "flat"
   ]
  },
  {
   "cell_type": "code",
   "execution_count": null,
   "metadata": {
    "id": "guY12A8vnp1J"
   },
   "outputs": [],
   "source": [
    "flat[0] = 1"
   ]
  },
  {
   "cell_type": "code",
   "execution_count": null,
   "metadata": {
    "colab": {
     "base_uri": "https://localhost:8080/"
    },
    "executionInfo": {
     "elapsed": 26,
     "status": "ok",
     "timestamp": 1747758520399,
     "user": {
      "displayName": "Garvita Aggarwal",
      "userId": "13257208684268379062"
     },
     "user_tz": -330
    },
    "id": "kiarjn-Wnsm2",
    "outputId": "f2a68112-3f48-45c0-b238-d899ecae192c"
   },
   "outputs": [
    {
     "data": {
      "text/plain": [
       "array([1, 2, 3, 4, 5, 6])"
      ]
     },
     "execution_count": 51,
     "metadata": {},
     "output_type": "execute_result"
    }
   ],
   "source": [
    "flat"
   ]
  },
  {
   "cell_type": "code",
   "execution_count": null,
   "metadata": {
    "colab": {
     "base_uri": "https://localhost:8080/"
    },
    "executionInfo": {
     "elapsed": 82,
     "status": "ok",
     "timestamp": 1747758520485,
     "user": {
      "displayName": "Garvita Aggarwal",
      "userId": "13257208684268379062"
     },
     "user_tz": -330
    },
    "id": "-Eb_alMJntYq",
    "outputId": "0fd0dd9a-ff3d-4bcb-8b2b-887cc793c8ff"
   },
   "outputs": [
    {
     "data": {
      "text/plain": [
       "array([[100,   2],\n",
       "       [  3,   4],\n",
       "       [  5,   6]])"
      ]
     },
     "execution_count": 52,
     "metadata": {},
     "output_type": "execute_result"
    }
   ],
   "source": [
    "reshape2"
   ]
  },
  {
   "cell_type": "markdown",
   "metadata": {
    "id": "oiPBwfOMoiFl"
   },
   "source": [
    "# Arithmetic Operations on Arrays"
   ]
  },
  {
   "cell_type": "code",
   "execution_count": null,
   "metadata": {
    "id": "fyOKDPevnvK-"
   },
   "outputs": [],
   "source": [
    "a = np.array([1,2,3])\n",
    "b = np.array([4,5,6])\n"
   ]
  },
  {
   "cell_type": "code",
   "execution_count": null,
   "metadata": {
    "colab": {
     "base_uri": "https://localhost:8080/"
    },
    "executionInfo": {
     "elapsed": 16,
     "status": "ok",
     "timestamp": 1747758520554,
     "user": {
      "displayName": "Garvita Aggarwal",
      "userId": "13257208684268379062"
     },
     "user_tz": -330
    },
    "id": "DSlSe5BuoxP2",
    "outputId": "8eba2ea4-8b2e-473a-df4a-8119ee3a3d84"
   },
   "outputs": [
    {
     "name": "stdout",
     "output_type": "stream",
     "text": [
      "[5 7 9]\n"
     ]
    }
   ],
   "source": [
    "#addition:\n",
    "\n",
    "print(a+b)"
   ]
  },
  {
   "cell_type": "code",
   "execution_count": null,
   "metadata": {
    "colab": {
     "base_uri": "https://localhost:8080/"
    },
    "executionInfo": {
     "elapsed": 118,
     "status": "ok",
     "timestamp": 1747758520674,
     "user": {
      "displayName": "Garvita Aggarwal",
      "userId": "13257208684268379062"
     },
     "user_tz": -330
    },
    "id": "MhOFM90xo1F8",
    "outputId": "ae9b0661-d88f-49ab-828c-fe2e37b8abba"
   },
   "outputs": [
    {
     "name": "stdout",
     "output_type": "stream",
     "text": [
      "[3 3 3]\n"
     ]
    }
   ],
   "source": [
    "# subtraction\n",
    "print(b-a)"
   ]
  },
  {
   "cell_type": "code",
   "execution_count": null,
   "metadata": {
    "colab": {
     "base_uri": "https://localhost:8080/"
    },
    "executionInfo": {
     "elapsed": 114,
     "status": "ok",
     "timestamp": 1747758520827,
     "user": {
      "displayName": "Garvita Aggarwal",
      "userId": "13257208684268379062"
     },
     "user_tz": -330
    },
    "id": "iVUrKDPxo7mQ",
    "outputId": "5c47a58d-ed0b-46e0-ebc3-e35c6cd03775"
   },
   "outputs": [
    {
     "name": "stdout",
     "output_type": "stream",
     "text": [
      "[0.25 0.4  0.5 ]\n"
     ]
    }
   ],
   "source": [
    "#division:\n",
    "print(a/b)"
   ]
  },
  {
   "cell_type": "code",
   "execution_count": null,
   "metadata": {
    "colab": {
     "base_uri": "https://localhost:8080/"
    },
    "executionInfo": {
     "elapsed": 25,
     "status": "ok",
     "timestamp": 1747758520859,
     "user": {
      "displayName": "Garvita Aggarwal",
      "userId": "13257208684268379062"
     },
     "user_tz": -330
    },
    "id": "MtEWZlJ8pOZ1",
    "outputId": "ddee4247-ae08-4d65-cd90-4a20ed7d0f2f"
   },
   "outputs": [
    {
     "name": "stdout",
     "output_type": "stream",
     "text": [
      "[4 2 2]\n"
     ]
    }
   ],
   "source": [
    "# integer division\n",
    "print(b//a)"
   ]
  },
  {
   "cell_type": "code",
   "execution_count": null,
   "metadata": {
    "colab": {
     "base_uri": "https://localhost:8080/"
    },
    "executionInfo": {
     "elapsed": 127,
     "status": "ok",
     "timestamp": 1747758520993,
     "user": {
      "displayName": "Garvita Aggarwal",
      "userId": "13257208684268379062"
     },
     "user_tz": -330
    },
    "id": "IL0pmuNMpCdt",
    "outputId": "37d18b21-31fc-4240-c3b7-bd05c29e1152"
   },
   "outputs": [
    {
     "name": "stdout",
     "output_type": "stream",
     "text": [
      "[ 4 10 18]\n"
     ]
    }
   ],
   "source": [
    "#multiplication\n",
    "print(a*b)"
   ]
  },
  {
   "cell_type": "code",
   "execution_count": null,
   "metadata": {
    "colab": {
     "base_uri": "https://localhost:8080/"
    },
    "executionInfo": {
     "elapsed": 161,
     "status": "ok",
     "timestamp": 1747758521162,
     "user": {
      "displayName": "Garvita Aggarwal",
      "userId": "13257208684268379062"
     },
     "user_tz": -330
    },
    "id": "0ojpPFi_pJNe",
    "outputId": "2c262594-8f7a-4c62-c088-610fcef01cc8"
   },
   "outputs": [
    {
     "name": "stdout",
     "output_type": "stream",
     "text": [
      "[0 1 0]\n"
     ]
    }
   ],
   "source": [
    "#modulus -> remainder\n",
    "print(b%a)"
   ]
  },
  {
   "cell_type": "code",
   "execution_count": null,
   "metadata": {
    "colab": {
     "base_uri": "https://localhost:8080/"
    },
    "executionInfo": {
     "elapsed": 31,
     "status": "ok",
     "timestamp": 1747758521202,
     "user": {
      "displayName": "Garvita Aggarwal",
      "userId": "13257208684268379062"
     },
     "user_tz": -330
    },
    "id": "GzJY23wMphGS",
    "outputId": "aea0a806-d025-4636-cac2-916708705af1"
   },
   "outputs": [
    {
     "name": "stdout",
     "output_type": "stream",
     "text": [
      "[1 4 9]\n"
     ]
    }
   ],
   "source": [
    "# exponent -> power\n",
    "print(a**2)"
   ]
  },
  {
   "cell_type": "markdown",
   "metadata": {
    "id": "g0RowUDeqAXT"
   },
   "source": [
    "Universal Function -> ufuncs"
   ]
  },
  {
   "cell_type": "code",
   "execution_count": null,
   "metadata": {
    "id": "ZPHqfWqTpz4-"
   },
   "outputs": [],
   "source": [
    "arr = np.array([1,4,9,16])"
   ]
  },
  {
   "cell_type": "code",
   "execution_count": null,
   "metadata": {
    "colab": {
     "base_uri": "https://localhost:8080/"
    },
    "executionInfo": {
     "elapsed": 30,
     "status": "ok",
     "timestamp": 1747758521251,
     "user": {
      "displayName": "Garvita Aggarwal",
      "userId": "13257208684268379062"
     },
     "user_tz": -330
    },
    "id": "Wy0V7A0op7w0",
    "outputId": "9bfe18db-a744-4107-ec36-256c195fdac7"
   },
   "outputs": [
    {
     "name": "stdout",
     "output_type": "stream",
     "text": [
      "[1. 2. 3. 4.]\n"
     ]
    }
   ],
   "source": [
    "# Square root -> np.sqrt()\n",
    "\n",
    "print(np.sqrt(arr))"
   ]
  },
  {
   "cell_type": "code",
   "execution_count": null,
   "metadata": {
    "colab": {
     "base_uri": "https://localhost:8080/"
    },
    "executionInfo": {
     "elapsed": 90,
     "status": "ok",
     "timestamp": 1747758521344,
     "user": {
      "displayName": "Garvita Aggarwal",
      "userId": "13257208684268379062"
     },
     "user_tz": -330
    },
    "id": "F9nHvyc7qVOA",
    "outputId": "230de377-3664-4d74-a5b9-2e73d988fd99"
   },
   "outputs": [
    {
     "name": "stdout",
     "output_type": "stream",
     "text": [
      "[2.71828183 7.3890561 ]\n"
     ]
    }
   ],
   "source": [
    "# exponentioal -> np.exp -> e^x -> x is any integer\n",
    "\n",
    "print(np.exp([1,2]))"
   ]
  },
  {
   "cell_type": "code",
   "execution_count": null,
   "metadata": {
    "colab": {
     "base_uri": "https://localhost:8080/"
    },
    "executionInfo": {
     "elapsed": 21,
     "status": "ok",
     "timestamp": 1747758521370,
     "user": {
      "displayName": "Garvita Aggarwal",
      "userId": "13257208684268379062"
     },
     "user_tz": -330
    },
    "id": "A6YuovLQqozj",
    "outputId": "ce20ec83-8ef7-4f10-afd8-2ecab3054eab"
   },
   "outputs": [
    {
     "name": "stdout",
     "output_type": "stream",
     "text": [
      "[0.0000000e+00 1.0000000e+00 1.2246468e-16]\n"
     ]
    }
   ],
   "source": [
    "#sine function -> np.sin\n",
    "\n",
    "angles = np.array([0, np.pi/2, np.pi])\n",
    "print(np.sin(angles))"
   ]
  },
  {
   "cell_type": "markdown",
   "metadata": {
    "id": "xRj7PT7SrSh8"
   },
   "source": [
    "Indexing and Slicing\n"
   ]
  },
  {
   "cell_type": "code",
   "execution_count": null,
   "metadata": {
    "id": "oevxsIkSrQ7v"
   },
   "outputs": [],
   "source": [
    "a = [1,2,3,4,5]"
   ]
  },
  {
   "cell_type": "code",
   "execution_count": null,
   "metadata": {
    "colab": {
     "base_uri": "https://localhost:8080/"
    },
    "executionInfo": {
     "elapsed": 19,
     "status": "ok",
     "timestamp": 1747758521397,
     "user": {
      "displayName": "Garvita Aggarwal",
      "userId": "13257208684268379062"
     },
     "user_tz": -330
    },
    "id": "WADQU-TlrBwy",
    "outputId": "906170c5-d0a0-4b87-ae63-131dc8c35829"
   },
   "outputs": [
    {
     "data": {
      "text/plain": [
       "[5, 4, 3]"
      ]
     },
     "execution_count": 66,
     "metadata": {},
     "output_type": "execute_result"
    }
   ],
   "source": [
    "a[-1:-4: -1]"
   ]
  },
  {
   "cell_type": "code",
   "execution_count": null,
   "metadata": {
    "colab": {
     "base_uri": "https://localhost:8080/"
    },
    "executionInfo": {
     "elapsed": 140,
     "status": "ok",
     "timestamp": 1747758521600,
     "user": {
      "displayName": "Garvita Aggarwal",
      "userId": "13257208684268379062"
     },
     "user_tz": -330
    },
    "id": "pCdC4F6KseMx",
    "outputId": "c183a2df-af5b-4129-bf66-45022801df97"
   },
   "outputs": [
    {
     "data": {
      "text/plain": [
       "[1, 3, 5]"
      ]
     },
     "execution_count": 67,
     "metadata": {},
     "output_type": "execute_result"
    }
   ],
   "source": [
    "a[: :2]"
   ]
  },
  {
   "cell_type": "code",
   "execution_count": null,
   "metadata": {
    "colab": {
     "base_uri": "https://localhost:8080/"
    },
    "executionInfo": {
     "elapsed": 11,
     "status": "ok",
     "timestamp": 1747758521612,
     "user": {
      "displayName": "Garvita Aggarwal",
      "userId": "13257208684268379062"
     },
     "user_tz": -330
    },
    "id": "5-I7xI2UtUfK",
    "outputId": "483e3c0f-1ac0-48f6-bd1e-11ec75a5e91d"
   },
   "outputs": [
    {
     "data": {
      "text/plain": [
       "array([10, 30, 50])"
      ]
     },
     "execution_count": 68,
     "metadata": {},
     "output_type": "execute_result"
    }
   ],
   "source": [
    "arr = np.array([10,20,30,40,50])\n",
    "# indexes = 0, 2, 4\n",
    "arr[::2]"
   ]
  },
  {
   "cell_type": "code",
   "execution_count": null,
   "metadata": {
    "colab": {
     "base_uri": "https://localhost:8080/"
    },
    "executionInfo": {
     "elapsed": 22,
     "status": "ok",
     "timestamp": 1747758521637,
     "user": {
      "displayName": "Garvita Aggarwal",
      "userId": "13257208684268379062"
     },
     "user_tz": -330
    },
    "id": "S5nRvkoltunO",
    "outputId": "456b8ecb-1a4f-4c1f-d565-3d1467c40645"
   },
   "outputs": [
    {
     "name": "stdout",
     "output_type": "stream",
     "text": [
      "50\n"
     ]
    }
   ],
   "source": [
    "# Negative Indexing\n",
    "print(arr[-1])"
   ]
  },
  {
   "cell_type": "code",
   "execution_count": null,
   "metadata": {
    "id": "QM4l37oit965"
   },
   "outputs": [],
   "source": [
    "matrix = np.array([[1,2,3],\n",
    "                  [4,5,6],\n",
    "                  [7,8,9]])"
   ]
  },
  {
   "cell_type": "code",
   "execution_count": null,
   "metadata": {
    "colab": {
     "base_uri": "https://localhost:8080/"
    },
    "executionInfo": {
     "elapsed": 17,
     "status": "ok",
     "timestamp": 1747758521667,
     "user": {
      "displayName": "Garvita Aggarwal",
      "userId": "13257208684268379062"
     },
     "user_tz": -330
    },
    "id": "aqX68FTKubUd",
    "outputId": "6af2d999-ab36-4a2e-e41f-c764ddfc3755"
   },
   "outputs": [
    {
     "name": "stdout",
     "output_type": "stream",
     "text": [
      "[[1 2 3]\n",
      " [4 5 6]]\n"
     ]
    }
   ],
   "source": [
    "print(matrix[0:2, :])"
   ]
  },
  {
   "cell_type": "code",
   "execution_count": null,
   "metadata": {
    "colab": {
     "base_uri": "https://localhost:8080/"
    },
    "executionInfo": {
     "elapsed": 21,
     "status": "ok",
     "timestamp": 1747758521691,
     "user": {
      "displayName": "Garvita Aggarwal",
      "userId": "13257208684268379062"
     },
     "user_tz": -330
    },
    "id": "0IheCDgEuvL0",
    "outputId": "a68e85dc-afc4-4ae0-f1fc-30f7f4dbee4e"
   },
   "outputs": [
    {
     "name": "stdout",
     "output_type": "stream",
     "text": [
      "[[5 6]\n",
      " [8 9]]\n"
     ]
    }
   ],
   "source": [
    "print(matrix[1: , 1:])"
   ]
  },
  {
   "cell_type": "code",
   "execution_count": null,
   "metadata": {
    "colab": {
     "base_uri": "https://localhost:8080/"
    },
    "executionInfo": {
     "elapsed": 56,
     "status": "ok",
     "timestamp": 1747758521749,
     "user": {
      "displayName": "Garvita Aggarwal",
      "userId": "13257208684268379062"
     },
     "user_tz": -330
    },
    "id": "o5ltXDBWvRJe",
    "outputId": "7801cf54-ba86-4ac0-89a8-7e876cbca99c"
   },
   "outputs": [
    {
     "name": "stdout",
     "output_type": "stream",
     "text": [
      "[10 30]\n"
     ]
    }
   ],
   "source": [
    "#np.take -> built in function to perform indexing and slicing\n",
    "arr = np.array([10,20,30,40,50])\n",
    "ind = [0, 2]\n",
    "print(np.take(arr, ind))"
   ]
  },
  {
   "cell_type": "code",
   "execution_count": null,
   "metadata": {
    "id": "ryOLeLNj5abn"
   },
   "outputs": [],
   "source": [
    "# Iterating with nditer()"
   ]
  },
  {
   "cell_type": "code",
   "execution_count": null,
   "metadata": {
    "id": "XNGVIEsB5hwG"
   },
   "outputs": [],
   "source": [
    "arr= np.array([[1,2], [3,4]])"
   ]
  },
  {
   "cell_type": "code",
   "execution_count": null,
   "metadata": {
    "colab": {
     "base_uri": "https://localhost:8080/"
    },
    "executionInfo": {
     "elapsed": 15,
     "status": "ok",
     "timestamp": 1747758521799,
     "user": {
      "displayName": "Garvita Aggarwal",
      "userId": "13257208684268379062"
     },
     "user_tz": -330
    },
    "id": "f33K88VP5sLw",
    "outputId": "eea16e1f-e29e-4022-c71e-9de3d76ed31d"
   },
   "outputs": [
    {
     "name": "stdout",
     "output_type": "stream",
     "text": [
      "1 2 3 4 "
     ]
    }
   ],
   "source": [
    "for x in np.nditer(arr):\n",
    "  print(x, end = \" \")"
   ]
  },
  {
   "cell_type": "code",
   "execution_count": null,
   "metadata": {
    "colab": {
     "base_uri": "https://localhost:8080/"
    },
    "executionInfo": {
     "elapsed": 15,
     "status": "ok",
     "timestamp": 1747758521816,
     "user": {
      "displayName": "Garvita Aggarwal",
      "userId": "13257208684268379062"
     },
     "user_tz": -330
    },
    "id": "OsJVBA4K5yWj",
    "outputId": "e151e6f4-ad0b-411a-d604-40534d68db80"
   },
   "outputs": [
    {
     "name": "stdout",
     "output_type": "stream",
     "text": [
      "(0, 0) 1\n",
      "(0, 1) 2\n",
      "(1, 0) 3\n",
      "(1, 1) 4\n"
     ]
    }
   ],
   "source": [
    "# ndenumerate() -> both index + value\n",
    "\n",
    "for ind, x in np.ndenumerate(arr):\n",
    "  print(ind, x)\n",
    "\n"
   ]
  },
  {
   "cell_type": "code",
   "execution_count": null,
   "metadata": {
    "colab": {
     "base_uri": "https://localhost:8080/"
    },
    "executionInfo": {
     "elapsed": 48,
     "status": "ok",
     "timestamp": 1747758521866,
     "user": {
      "displayName": "Garvita Aggarwal",
      "userId": "13257208684268379062"
     },
     "user_tz": -330
    },
    "id": "XX_3YV626Azc",
    "outputId": "573cd89f-9b7f-43bb-a11c-41527c137f18"
   },
   "outputs": [
    {
     "data": {
      "text/plain": [
       "array([2, 3])"
      ]
     },
     "execution_count": 78,
     "metadata": {},
     "output_type": "execute_result"
    }
   ],
   "source": [
    "# Views vs Copies\n",
    "\n",
    "arr = np.array([1,2,3,4,5])\n",
    "view = arr[1:3]\n",
    "view"
   ]
  },
  {
   "cell_type": "code",
   "execution_count": null,
   "metadata": {
    "id": "6Jtm7ABc6SdO"
   },
   "outputs": [],
   "source": [
    "view[0] = 200"
   ]
  },
  {
   "cell_type": "code",
   "execution_count": null,
   "metadata": {
    "colab": {
     "base_uri": "https://localhost:8080/"
    },
    "executionInfo": {
     "elapsed": 27,
     "status": "ok",
     "timestamp": 1747758521921,
     "user": {
      "displayName": "Garvita Aggarwal",
      "userId": "13257208684268379062"
     },
     "user_tz": -330
    },
    "id": "pqQJZ0iX6VxQ",
    "outputId": "df8cec2b-ff86-4c59-84c6-11cd98853924"
   },
   "outputs": [
    {
     "data": {
      "text/plain": [
       "array([200,   3])"
      ]
     },
     "execution_count": 80,
     "metadata": {},
     "output_type": "execute_result"
    }
   ],
   "source": [
    "view"
   ]
  },
  {
   "cell_type": "code",
   "execution_count": null,
   "metadata": {
    "colab": {
     "base_uri": "https://localhost:8080/"
    },
    "executionInfo": {
     "elapsed": 18,
     "status": "ok",
     "timestamp": 1747758521941,
     "user": {
      "displayName": "Garvita Aggarwal",
      "userId": "13257208684268379062"
     },
     "user_tz": -330
    },
    "id": "r5QiSg-S6WdK",
    "outputId": "8168c6a4-b6d1-4d20-8919-b24961c369d8"
   },
   "outputs": [
    {
     "data": {
      "text/plain": [
       "array([  1, 200,   3,   4,   5])"
      ]
     },
     "execution_count": 81,
     "metadata": {},
     "output_type": "execute_result"
    }
   ],
   "source": [
    "arr"
   ]
  },
  {
   "cell_type": "code",
   "execution_count": null,
   "metadata": {
    "colab": {
     "base_uri": "https://localhost:8080/"
    },
    "executionInfo": {
     "elapsed": 10,
     "status": "ok",
     "timestamp": 1747758521953,
     "user": {
      "displayName": "Garvita Aggarwal",
      "userId": "13257208684268379062"
     },
     "user_tz": -330
    },
    "id": "wHz_SGeY6X2n",
    "outputId": "7b4ff2d9-3ac6-4973-a25c-7ffac1aa3cdb"
   },
   "outputs": [
    {
     "data": {
      "text/plain": [
       "array([200,   3])"
      ]
     },
     "execution_count": 82,
     "metadata": {},
     "output_type": "execute_result"
    }
   ],
   "source": [
    "# copy\n",
    "copy = arr[1:3].copy()\n",
    "copy"
   ]
  },
  {
   "cell_type": "code",
   "execution_count": null,
   "metadata": {
    "colab": {
     "base_uri": "https://localhost:8080/"
    },
    "executionInfo": {
     "elapsed": 199,
     "status": "ok",
     "timestamp": 1747758522154,
     "user": {
      "displayName": "Garvita Aggarwal",
      "userId": "13257208684268379062"
     },
     "user_tz": -330
    },
    "id": "TPu9Dwxf6adO",
    "outputId": "e0de9c48-9bd6-416c-e760-ff988c7682ae"
   },
   "outputs": [
    {
     "data": {
      "text/plain": [
       "array([2, 3])"
      ]
     },
     "execution_count": 83,
     "metadata": {},
     "output_type": "execute_result"
    }
   ],
   "source": [
    "copy[0] = 2\n",
    "copy"
   ]
  },
  {
   "cell_type": "code",
   "execution_count": null,
   "metadata": {
    "colab": {
     "base_uri": "https://localhost:8080/"
    },
    "executionInfo": {
     "elapsed": 14,
     "status": "ok",
     "timestamp": 1747758522170,
     "user": {
      "displayName": "Garvita Aggarwal",
      "userId": "13257208684268379062"
     },
     "user_tz": -330
    },
    "id": "whNCJppT6hoi",
    "outputId": "d792695f-687a-405a-c2c2-1458f5cded20"
   },
   "outputs": [
    {
     "data": {
      "text/plain": [
       "array([  1, 200,   3,   4,   5])"
      ]
     },
     "execution_count": 84,
     "metadata": {},
     "output_type": "execute_result"
    }
   ],
   "source": [
    "arr"
   ]
  },
  {
   "cell_type": "code",
   "execution_count": null,
   "metadata": {
    "colab": {
     "base_uri": "https://localhost:8080/"
    },
    "executionInfo": {
     "elapsed": 19,
     "status": "ok",
     "timestamp": 1747758522190,
     "user": {
      "displayName": "Garvita Aggarwal",
      "userId": "13257208684268379062"
     },
     "user_tz": -330
    },
    "id": "6Wnoq8-W6iiq",
    "outputId": "f19f6aba-dbf5-4ace-eac1-d4e0618c1e14"
   },
   "outputs": [
    {
     "data": {
      "text/plain": [
       "array([[1, 2],\n",
       "       [3, 4]])"
      ]
     },
     "execution_count": 85,
     "metadata": {},
     "output_type": "execute_result"
    }
   ],
   "source": [
    "arr = np.array([[1,2], [3,4]])\n",
    "arr"
   ]
  },
  {
   "cell_type": "code",
   "execution_count": null,
   "metadata": {
    "colab": {
     "base_uri": "https://localhost:8080/"
    },
    "executionInfo": {
     "elapsed": 14,
     "status": "ok",
     "timestamp": 1747758522207,
     "user": {
      "displayName": "Garvita Aggarwal",
      "userId": "13257208684268379062"
     },
     "user_tz": -330
    },
    "id": "fGIzXQtH7IFn",
    "outputId": "48b162cc-741b-4871-b43a-741440da061e"
   },
   "outputs": [
    {
     "name": "stdout",
     "output_type": "stream",
     "text": [
      "[[1 3]\n",
      " [2 4]]\n"
     ]
    }
   ],
   "source": [
    "print(arr.transpose())"
   ]
  },
  {
   "cell_type": "code",
   "execution_count": null,
   "metadata": {
    "colab": {
     "base_uri": "https://localhost:8080/"
    },
    "executionInfo": {
     "elapsed": 24,
     "status": "ok",
     "timestamp": 1747758522235,
     "user": {
      "displayName": "Garvita Aggarwal",
      "userId": "13257208684268379062"
     },
     "user_tz": -330
    },
    "id": "hMSoobbY7NkJ",
    "outputId": "a89a6a34-e364-460c-86f6-206c2ef39ae5"
   },
   "outputs": [
    {
     "data": {
      "text/plain": [
       "(1, 2, 2)"
      ]
     },
     "execution_count": 87,
     "metadata": {},
     "output_type": "execute_result"
    }
   ],
   "source": [
    "# Swapaxes -> swap 2 specific axes in a matrix.\n",
    "\n",
    "arr = np.array([[[1,2], [3,4]]])\n",
    "arr.shape"
   ]
  },
  {
   "cell_type": "code",
   "execution_count": null,
   "metadata": {
    "colab": {
     "base_uri": "https://localhost:8080/"
    },
    "executionInfo": {
     "elapsed": 11,
     "status": "ok",
     "timestamp": 1747758522249,
     "user": {
      "displayName": "Garvita Aggarwal",
      "userId": "13257208684268379062"
     },
     "user_tz": -330
    },
    "id": "NlkNIUBC7amZ",
    "outputId": "066bfded-ed08-4b87-80a2-92a18b11fd30"
   },
   "outputs": [
    {
     "data": {
      "text/plain": [
       "(2, 1, 2)"
      ]
     },
     "execution_count": 88,
     "metadata": {},
     "output_type": "execute_result"
    }
   ],
   "source": [
    "swap = np.swapaxes(arr, 0, 1)\n",
    "swap.shape"
   ]
  },
  {
   "cell_type": "code",
   "execution_count": null,
   "metadata": {
    "id": "RUuSL64-7juM"
   },
   "outputs": [],
   "source": [
    "# Concatenation:\n",
    "\n",
    "a = np.array([1,2])\n",
    "b = np.array([3,4])"
   ]
  },
  {
   "cell_type": "code",
   "execution_count": null,
   "metadata": {
    "colab": {
     "base_uri": "https://localhost:8080/"
    },
    "executionInfo": {
     "elapsed": 32,
     "status": "ok",
     "timestamp": 1747758522330,
     "user": {
      "displayName": "Garvita Aggarwal",
      "userId": "13257208684268379062"
     },
     "user_tz": -330
    },
    "id": "S0O3OObf8BiR",
    "outputId": "dd0d1c9e-f357-4839-e2b2-1512682e1e15"
   },
   "outputs": [
    {
     "data": {
      "text/plain": [
       "array([1, 2, 3, 4])"
      ]
     },
     "execution_count": 90,
     "metadata": {},
     "output_type": "execute_result"
    }
   ],
   "source": [
    "combine = np.concatenate((a,b))\n",
    "combine"
   ]
  },
  {
   "cell_type": "code",
   "execution_count": null,
   "metadata": {
    "id": "_i7PeDL28EUv"
   },
   "outputs": [],
   "source": [
    "arr1 = np.array([[1,2], [3,4]])\n",
    "arr2 = np.array([[5,6], [7,8]])"
   ]
  },
  {
   "cell_type": "code",
   "execution_count": null,
   "metadata": {
    "colab": {
     "base_uri": "https://localhost:8080/"
    },
    "executionInfo": {
     "elapsed": 36,
     "status": "ok",
     "timestamp": 1747758522500,
     "user": {
      "displayName": "Garvita Aggarwal",
      "userId": "13257208684268379062"
     },
     "user_tz": -330
    },
    "id": "-bMQeAmZ8kcH",
    "outputId": "1e6fb179-3437-4346-a550-e5a38b4fa46b"
   },
   "outputs": [
    {
     "name": "stdout",
     "output_type": "stream",
     "text": [
      "[[1 2]\n",
      " [3 4]\n",
      " [5 6]\n",
      " [7 8]]\n"
     ]
    }
   ],
   "source": [
    "print(np.vstack((arr1, arr2)))"
   ]
  },
  {
   "cell_type": "code",
   "execution_count": null,
   "metadata": {
    "colab": {
     "base_uri": "https://localhost:8080/"
    },
    "executionInfo": {
     "elapsed": 115,
     "status": "ok",
     "timestamp": 1747758522618,
     "user": {
      "displayName": "Garvita Aggarwal",
      "userId": "13257208684268379062"
     },
     "user_tz": -330
    },
    "id": "RlOpzMjB8tr_",
    "outputId": "78d3d46f-8ad5-47f6-86a7-d5bfe513a6f4"
   },
   "outputs": [
    {
     "name": "stdout",
     "output_type": "stream",
     "text": [
      "[[1 2 5 6]\n",
      " [3 4 7 8]]\n"
     ]
    }
   ],
   "source": [
    "print(np.hstack((arr1, arr2)))"
   ]
  },
  {
   "cell_type": "code",
   "execution_count": null,
   "metadata": {
    "colab": {
     "base_uri": "https://localhost:8080/"
    },
    "executionInfo": {
     "elapsed": 32,
     "status": "ok",
     "timestamp": 1747758522654,
     "user": {
      "displayName": "Garvita Aggarwal",
      "userId": "13257208684268379062"
     },
     "user_tz": -330
    },
    "id": "KR6vsWIx89vW",
    "outputId": "9b7621c7-0c25-4a12-e113-cbee3ed71810"
   },
   "outputs": [
    {
     "name": "stdout",
     "output_type": "stream",
     "text": [
      "[[[1 2]\n",
      "  [3 4]]\n",
      "\n",
      " [[5 6]\n",
      "  [7 8]]]\n"
     ]
    }
   ],
   "source": [
    "print(np.stack((arr1, arr2), axis = 0))"
   ]
  },
  {
   "cell_type": "code",
   "execution_count": null,
   "metadata": {
    "colab": {
     "base_uri": "https://localhost:8080/"
    },
    "executionInfo": {
     "elapsed": 17,
     "status": "ok",
     "timestamp": 1747758522673,
     "user": {
      "displayName": "Garvita Aggarwal",
      "userId": "13257208684268379062"
     },
     "user_tz": -330
    },
    "id": "FfDOhKdS9Ypt",
    "outputId": "b7ba82ce-ee10-4ad6-95cf-98ba82883926"
   },
   "outputs": [
    {
     "name": "stdout",
     "output_type": "stream",
     "text": [
      "[[[1 2]\n",
      "  [5 6]]\n",
      "\n",
      " [[3 4]\n",
      "  [7 8]]]\n"
     ]
    }
   ],
   "source": [
    "print(np.stack((arr1, arr2), axis = 1))"
   ]
  },
  {
   "cell_type": "code",
   "execution_count": null,
   "metadata": {
    "id": "e09PaRtu9iZD"
   },
   "outputs": [],
   "source": [
    "# Splitting Arrays:\n",
    "\n",
    "arr1 = np.array([[1,2], [3,4], [5,6], [7,8]])"
   ]
  },
  {
   "cell_type": "code",
   "execution_count": null,
   "metadata": {
    "colab": {
     "base_uri": "https://localhost:8080/"
    },
    "executionInfo": {
     "elapsed": 80,
     "status": "ok",
     "timestamp": 1747758522782,
     "user": {
      "displayName": "Garvita Aggarwal",
      "userId": "13257208684268379062"
     },
     "user_tz": -330
    },
    "id": "pgTj0I8l9wMQ",
    "outputId": "6def57f6-7bb3-432a-ffbe-deee1d95b60e"
   },
   "outputs": [
    {
     "data": {
      "text/plain": [
       "array([[1, 2],\n",
       "       [3, 4],\n",
       "       [5, 6],\n",
       "       [7, 8]])"
      ]
     },
     "execution_count": 97,
     "metadata": {},
     "output_type": "execute_result"
    }
   ],
   "source": [
    "arr1"
   ]
  },
  {
   "cell_type": "code",
   "execution_count": null,
   "metadata": {
    "colab": {
     "base_uri": "https://localhost:8080/"
    },
    "executionInfo": {
     "elapsed": 18,
     "status": "ok",
     "timestamp": 1747758522805,
     "user": {
      "displayName": "Garvita Aggarwal",
      "userId": "13257208684268379062"
     },
     "user_tz": -330
    },
    "id": "0kQJ5vAp91AU",
    "outputId": "2ee3de32-2913-4ea8-f070-a73f79c82fba"
   },
   "outputs": [
    {
     "name": "stdout",
     "output_type": "stream",
     "text": [
      "[array([[1, 2]]), array([[3, 4]]), array([[5, 6]]), array([[7, 8]])]\n"
     ]
    }
   ],
   "source": [
    "print(np.split(arr1, 4))"
   ]
  },
  {
   "cell_type": "code",
   "execution_count": null,
   "metadata": {
    "colab": {
     "base_uri": "https://localhost:8080/"
    },
    "executionInfo": {
     "elapsed": 14,
     "status": "ok",
     "timestamp": 1747758522833,
     "user": {
      "displayName": "Garvita Aggarwal",
      "userId": "13257208684268379062"
     },
     "user_tz": -330
    },
    "id": "-vN3xCa697xH",
    "outputId": "31248a9a-2a8d-4d16-9141-9dec666f78cb"
   },
   "outputs": [
    {
     "name": "stdout",
     "output_type": "stream",
     "text": [
      "[array([[1],\n",
      "       [3],\n",
      "       [5],\n",
      "       [7]]), array([[2],\n",
      "       [4],\n",
      "       [6],\n",
      "       [8]])]\n"
     ]
    }
   ],
   "source": [
    "print(np.hsplit(arr1, 2))"
   ]
  },
  {
   "cell_type": "code",
   "execution_count": null,
   "metadata": {
    "colab": {
     "base_uri": "https://localhost:8080/"
    },
    "executionInfo": {
     "elapsed": 17,
     "status": "ok",
     "timestamp": 1747758522852,
     "user": {
      "displayName": "Garvita Aggarwal",
      "userId": "13257208684268379062"
     },
     "user_tz": -330
    },
    "id": "COe0iorGGv4l",
    "outputId": "03721a88-20f3-464d-a066-1172127565c1"
   },
   "outputs": [
    {
     "name": "stdout",
     "output_type": "stream",
     "text": [
      "[1 1 1 2 2 2 3 3 3]\n"
     ]
    }
   ],
   "source": [
    "#Repeating:\n",
    "\n",
    "arr = np.array([1,2,3])\n",
    "print(np.repeat(arr,3))"
   ]
  },
  {
   "cell_type": "code",
   "execution_count": null,
   "metadata": {
    "colab": {
     "base_uri": "https://localhost:8080/"
    },
    "executionInfo": {
     "elapsed": 9,
     "status": "ok",
     "timestamp": 1747758522892,
     "user": {
      "displayName": "Garvita Aggarwal",
      "userId": "13257208684268379062"
     },
     "user_tz": -330
    },
    "id": "K1s0cDxYHgf2",
    "outputId": "f3a9666b-bb8c-403d-af78-4bf46bff685a"
   },
   "outputs": [
    {
     "name": "stdout",
     "output_type": "stream",
     "text": [
      "[1 2 3 1 2 3]\n"
     ]
    }
   ],
   "source": [
    "# tile -> repeat my whole array\n",
    "\n",
    "print(np.tile(arr, 2))"
   ]
  },
  {
   "cell_type": "code",
   "execution_count": null,
   "metadata": {
    "colab": {
     "base_uri": "https://localhost:8080/"
    },
    "executionInfo": {
     "elapsed": 45,
     "status": "ok",
     "timestamp": 1747758522940,
     "user": {
      "displayName": "Garvita Aggarwal",
      "userId": "13257208684268379062"
     },
     "user_tz": -330
    },
    "id": "2gFGXnOzHoIK",
    "outputId": "40acae84-59b6-460e-ef82-68547ec422c9"
   },
   "outputs": [
    {
     "name": "stdout",
     "output_type": "stream",
     "text": [
      "6\n"
     ]
    }
   ],
   "source": [
    "#Aggregate Functions:\n",
    "\n",
    "arr = np.array([1,2,3])\n",
    "print(np.sum(arr))"
   ]
  },
  {
   "cell_type": "code",
   "execution_count": null,
   "metadata": {
    "colab": {
     "base_uri": "https://localhost:8080/"
    },
    "executionInfo": {
     "elapsed": 21,
     "status": "ok",
     "timestamp": 1747758522965,
     "user": {
      "displayName": "Garvita Aggarwal",
      "userId": "13257208684268379062"
     },
     "user_tz": -330
    },
    "id": "bcvMkP8qH5iE",
    "outputId": "fd64236d-ea38-4c41-da99-96042d2154f3"
   },
   "outputs": [
    {
     "data": {
      "text/plain": [
       "np.float64(2.0)"
      ]
     },
     "execution_count": 103,
     "metadata": {},
     "output_type": "execute_result"
    }
   ],
   "source": [
    "np.mean(arr)"
   ]
  },
  {
   "cell_type": "code",
   "execution_count": null,
   "metadata": {
    "colab": {
     "base_uri": "https://localhost:8080/"
    },
    "executionInfo": {
     "elapsed": 7,
     "status": "ok",
     "timestamp": 1747758522975,
     "user": {
      "displayName": "Garvita Aggarwal",
      "userId": "13257208684268379062"
     },
     "user_tz": -330
    },
    "id": "oojAp1e4H9NS",
    "outputId": "c4171e20-d334-48a8-acef-3ecb5d1737a2"
   },
   "outputs": [
    {
     "data": {
      "text/plain": [
       "np.float64(2.0)"
      ]
     },
     "execution_count": 104,
     "metadata": {},
     "output_type": "execute_result"
    }
   ],
   "source": [
    "np.median(arr)"
   ]
  },
  {
   "cell_type": "code",
   "execution_count": null,
   "metadata": {
    "colab": {
     "base_uri": "https://localhost:8080/"
    },
    "executionInfo": {
     "elapsed": 27,
     "status": "ok",
     "timestamp": 1747758523034,
     "user": {
      "displayName": "Garvita Aggarwal",
      "userId": "13257208684268379062"
     },
     "user_tz": -330
    },
    "id": "_p5y8rI6IBOv",
    "outputId": "fa34f641-9fce-4e89-b016-62d8f982e213"
   },
   "outputs": [
    {
     "data": {
      "text/plain": [
       "np.float64(0.816496580927726)"
      ]
     },
     "execution_count": 105,
     "metadata": {},
     "output_type": "execute_result"
    }
   ],
   "source": [
    "np.std(arr)"
   ]
  },
  {
   "cell_type": "code",
   "execution_count": null,
   "metadata": {
    "colab": {
     "base_uri": "https://localhost:8080/"
    },
    "executionInfo": {
     "elapsed": 18,
     "status": "ok",
     "timestamp": 1747758523054,
     "user": {
      "displayName": "Garvita Aggarwal",
      "userId": "13257208684268379062"
     },
     "user_tz": -330
    },
    "id": "Yxe3oyErIEej",
    "outputId": "328a7b2b-4a37-430a-a38a-4bdb17f4a668"
   },
   "outputs": [
    {
     "data": {
      "text/plain": [
       "np.float64(0.6666666666666666)"
      ]
     },
     "execution_count": 106,
     "metadata": {},
     "output_type": "execute_result"
    }
   ],
   "source": [
    "np.var(arr)"
   ]
  },
  {
   "cell_type": "code",
   "execution_count": null,
   "metadata": {
    "colab": {
     "base_uri": "https://localhost:8080/"
    },
    "executionInfo": {
     "elapsed": 17,
     "status": "ok",
     "timestamp": 1747758523073,
     "user": {
      "displayName": "Garvita Aggarwal",
      "userId": "13257208684268379062"
     },
     "user_tz": -330
    },
    "id": "_71wlfUXILeD",
    "outputId": "3a2d848a-f9c7-4b49-d603-30398a40e36d"
   },
   "outputs": [
    {
     "data": {
      "text/plain": [
       "np.int64(3)"
      ]
     },
     "execution_count": 107,
     "metadata": {},
     "output_type": "execute_result"
    }
   ],
   "source": [
    "np.max(arr)"
   ]
  },
  {
   "cell_type": "code",
   "execution_count": null,
   "metadata": {
    "colab": {
     "base_uri": "https://localhost:8080/"
    },
    "executionInfo": {
     "elapsed": 14,
     "status": "ok",
     "timestamp": 1747758523101,
     "user": {
      "displayName": "Garvita Aggarwal",
      "userId": "13257208684268379062"
     },
     "user_tz": -330
    },
    "id": "t6Abl43dIF6d",
    "outputId": "34d09dee-71c5-41b4-d7b4-b1560fcc9555"
   },
   "outputs": [
    {
     "data": {
      "text/plain": [
       "np.int64(1)"
      ]
     },
     "execution_count": 108,
     "metadata": {},
     "output_type": "execute_result"
    }
   ],
   "source": [
    "np.min(arr)"
   ]
  },
  {
   "cell_type": "code",
   "execution_count": null,
   "metadata": {
    "colab": {
     "base_uri": "https://localhost:8080/"
    },
    "executionInfo": {
     "elapsed": 21,
     "status": "ok",
     "timestamp": 1747758523169,
     "user": {
      "displayName": "Garvita Aggarwal",
      "userId": "13257208684268379062"
     },
     "user_tz": -330
    },
    "id": "tHTGI1j_IKUA",
    "outputId": "f0d3facc-a03c-42e6-a5b0-f9b8876dc18a"
   },
   "outputs": [
    {
     "data": {
      "text/plain": [
       "array([[1, 2, 3],\n",
       "       [4, 5, 6],\n",
       "       [7, 8, 9]])"
      ]
     },
     "execution_count": 109,
     "metadata": {},
     "output_type": "execute_result"
    }
   ],
   "source": [
    "matrix"
   ]
  },
  {
   "cell_type": "code",
   "execution_count": null,
   "metadata": {
    "colab": {
     "base_uri": "https://localhost:8080/"
    },
    "executionInfo": {
     "elapsed": 24,
     "status": "ok",
     "timestamp": 1747758523195,
     "user": {
      "displayName": "Garvita Aggarwal",
      "userId": "13257208684268379062"
     },
     "user_tz": -330
    },
    "id": "JxKcufdAIYB1",
    "outputId": "577051d0-065d-4a8b-f64f-14326221b3ea"
   },
   "outputs": [
    {
     "name": "stdout",
     "output_type": "stream",
     "text": [
      "[12 15 18]\n"
     ]
    }
   ],
   "source": [
    "print(np.sum(matrix, axis = 0))"
   ]
  },
  {
   "cell_type": "code",
   "execution_count": null,
   "metadata": {
    "colab": {
     "base_uri": "https://localhost:8080/"
    },
    "executionInfo": {
     "elapsed": 17,
     "status": "ok",
     "timestamp": 1747758523214,
     "user": {
      "displayName": "Garvita Aggarwal",
      "userId": "13257208684268379062"
     },
     "user_tz": -330
    },
    "id": "Ab3gaoxlIdfB",
    "outputId": "71b2245a-b847-4601-9e65-8e43bc521b05"
   },
   "outputs": [
    {
     "data": {
      "text/plain": [
       "array([1, 2, 3])"
      ]
     },
     "execution_count": 111,
     "metadata": {},
     "output_type": "execute_result"
    }
   ],
   "source": [
    "# Cumulative Operations -> running total\n",
    "\n",
    "arr"
   ]
  },
  {
   "cell_type": "code",
   "execution_count": null,
   "metadata": {
    "colab": {
     "base_uri": "https://localhost:8080/"
    },
    "executionInfo": {
     "elapsed": 10,
     "status": "ok",
     "timestamp": 1747758523225,
     "user": {
      "displayName": "Garvita Aggarwal",
      "userId": "13257208684268379062"
     },
     "user_tz": -330
    },
    "id": "-IxXMDxUIvYq",
    "outputId": "5297454b-248d-4c8b-e76b-a890679d6e47"
   },
   "outputs": [
    {
     "name": "stdout",
     "output_type": "stream",
     "text": [
      "[1 3 6]\n"
     ]
    }
   ],
   "source": [
    "print(np.cumsum(arr))"
   ]
  },
  {
   "cell_type": "code",
   "execution_count": null,
   "metadata": {
    "colab": {
     "base_uri": "https://localhost:8080/"
    },
    "executionInfo": {
     "elapsed": 13,
     "status": "ok",
     "timestamp": 1747758523241,
     "user": {
      "displayName": "Garvita Aggarwal",
      "userId": "13257208684268379062"
     },
     "user_tz": -330
    },
    "id": "eeIIgg_5IyEe",
    "outputId": "cf7cd18f-21cc-494b-b8c2-0f7d961a4f50"
   },
   "outputs": [
    {
     "name": "stdout",
     "output_type": "stream",
     "text": [
      "[1 2 6]\n"
     ]
    }
   ],
   "source": [
    "print(np.cumprod(arr))"
   ]
  },
  {
   "cell_type": "markdown",
   "metadata": {
    "id": "bN2gTHjhI-Md"
   },
   "source": [
    "Conditional Based choices\n"
   ]
  },
  {
   "cell_type": "code",
   "execution_count": null,
   "metadata": {
    "colab": {
     "base_uri": "https://localhost:8080/"
    },
    "executionInfo": {
     "elapsed": 52,
     "status": "ok",
     "timestamp": 1747758523295,
     "user": {
      "displayName": "Garvita Aggarwal",
      "userId": "13257208684268379062"
     },
     "user_tz": -330
    },
    "id": "-Kx8c6arI4xf",
    "outputId": "b6bcb84e-64c3-4777-9fe0-c3fc94b3f878"
   },
   "outputs": [
    {
     "data": {
      "text/plain": [
       "array([1, 2, 3])"
      ]
     },
     "execution_count": 114,
     "metadata": {},
     "output_type": "execute_result"
    }
   ],
   "source": [
    "# Where:\n",
    "\n",
    "arr"
   ]
  },
  {
   "cell_type": "code",
   "execution_count": null,
   "metadata": {
    "id": "3Crrv8WyJDye"
   },
   "outputs": [],
   "source": [
    "result = np.where(arr <2, \"low\", \"high\")"
   ]
  },
  {
   "cell_type": "code",
   "execution_count": null,
   "metadata": {
    "colab": {
     "base_uri": "https://localhost:8080/"
    },
    "executionInfo": {
     "elapsed": 16,
     "status": "ok",
     "timestamp": 1747758523327,
     "user": {
      "displayName": "Garvita Aggarwal",
      "userId": "13257208684268379062"
     },
     "user_tz": -330
    },
    "id": "wj-T0h6aJLXB",
    "outputId": "eba94505-efe8-436a-de89-195b728755f1"
   },
   "outputs": [
    {
     "data": {
      "text/plain": [
       "array(['low', 'high', 'high'], dtype='<U4')"
      ]
     },
     "execution_count": 116,
     "metadata": {},
     "output_type": "execute_result"
    }
   ],
   "source": [
    "result"
   ]
  },
  {
   "cell_type": "code",
   "execution_count": null,
   "metadata": {
    "colab": {
     "base_uri": "https://localhost:8080/"
    },
    "executionInfo": {
     "elapsed": 21,
     "status": "ok",
     "timestamp": 1747758523351,
     "user": {
      "displayName": "Garvita Aggarwal",
      "userId": "13257208684268379062"
     },
     "user_tz": -330
    },
    "id": "Do0Re_vDKCqS",
    "outputId": "d87b6388-e49e-4176-ca26-90505b9172cc"
   },
   "outputs": [
    {
     "data": {
      "text/plain": [
       "array([1, 2, 3])"
      ]
     },
     "execution_count": 117,
     "metadata": {},
     "output_type": "execute_result"
    }
   ],
   "source": [
    "arr"
   ]
  },
  {
   "cell_type": "code",
   "execution_count": null,
   "metadata": {
    "id": "EwfhuZtoJMNM"
   },
   "outputs": [],
   "source": [
    "#argwhere: row-column positions for 2d arrays"
   ]
  },
  {
   "cell_type": "code",
   "execution_count": null,
   "metadata": {
    "colab": {
     "base_uri": "https://localhost:8080/"
    },
    "executionInfo": {
     "elapsed": 38,
     "status": "ok",
     "timestamp": 1747758523410,
     "user": {
      "displayName": "Garvita Aggarwal",
      "userId": "13257208684268379062"
     },
     "user_tz": -330
    },
    "id": "yjN7YK_mJuFN",
    "outputId": "5e637daf-ba3f-4c2e-a484-24243d2451be"
   },
   "outputs": [
    {
     "data": {
      "text/plain": [
       "array([1, 2, 3])"
      ]
     },
     "execution_count": 119,
     "metadata": {},
     "output_type": "execute_result"
    }
   ],
   "source": [
    "arr"
   ]
  },
  {
   "cell_type": "code",
   "execution_count": null,
   "metadata": {
    "colab": {
     "base_uri": "https://localhost:8080/"
    },
    "executionInfo": {
     "elapsed": 59,
     "status": "ok",
     "timestamp": 1747758523473,
     "user": {
      "displayName": "Garvita Aggarwal",
      "userId": "13257208684268379062"
     },
     "user_tz": -330
    },
    "id": "cfBfDDZuKzv3",
    "outputId": "24bdc20f-77d4-4079-e8fc-9fdaca35be80"
   },
   "outputs": [
    {
     "name": "stdout",
     "output_type": "stream",
     "text": [
      "[[0]\n",
      " [1]\n",
      " [2]]\n"
     ]
    }
   ],
   "source": [
    "print(np.argwhere(arr>0))"
   ]
  },
  {
   "cell_type": "code",
   "execution_count": null,
   "metadata": {
    "colab": {
     "base_uri": "https://localhost:8080/"
    },
    "executionInfo": {
     "elapsed": 18,
     "status": "ok",
     "timestamp": 1747758523495,
     "user": {
      "displayName": "Garvita Aggarwal",
      "userId": "13257208684268379062"
     },
     "user_tz": -330
    },
    "id": "LWcp5NCLK5p5",
    "outputId": "afaa0834-b6b2-4981-f350-97c636d92c44"
   },
   "outputs": [
    {
     "data": {
      "text/plain": [
       "array([[1, 2, 3],\n",
       "       [4, 5, 6],\n",
       "       [7, 8, 9]])"
      ]
     },
     "execution_count": 121,
     "metadata": {},
     "output_type": "execute_result"
    }
   ],
   "source": [
    "matrix"
   ]
  },
  {
   "cell_type": "code",
   "execution_count": null,
   "metadata": {
    "colab": {
     "base_uri": "https://localhost:8080/"
    },
    "executionInfo": {
     "elapsed": 58,
     "status": "ok",
     "timestamp": 1747758523556,
     "user": {
      "displayName": "Garvita Aggarwal",
      "userId": "13257208684268379062"
     },
     "user_tz": -330
    },
    "id": "V1na5DeHLefI",
    "outputId": "673b0007-b068-4264-966e-e53929c4cc81"
   },
   "outputs": [
    {
     "name": "stdout",
     "output_type": "stream",
     "text": [
      "[[1 2]\n",
      " [2 0]\n",
      " [2 1]\n",
      " [2 2]]\n"
     ]
    }
   ],
   "source": [
    "print(np.argwhere(matrix> 5))"
   ]
  },
  {
   "cell_type": "code",
   "execution_count": null,
   "metadata": {
    "colab": {
     "base_uri": "https://localhost:8080/"
    },
    "executionInfo": {
     "elapsed": 35,
     "status": "ok",
     "timestamp": 1747758523596,
     "user": {
      "displayName": "Garvita Aggarwal",
      "userId": "13257208684268379062"
     },
     "user_tz": -330
    },
    "id": "PLKMPrxALfB8",
    "outputId": "a667c586-c121-4f38-9188-0e97010c4241"
   },
   "outputs": [
    {
     "data": {
      "text/plain": [
       "array([1, 2, 3])"
      ]
     },
     "execution_count": 123,
     "metadata": {},
     "output_type": "execute_result"
    }
   ],
   "source": [
    "# Logical and:\n",
    "\n",
    "arr"
   ]
  },
  {
   "cell_type": "code",
   "execution_count": null,
   "metadata": {
    "id": "gQvFEJhujA5C"
   },
   "outputs": [],
   "source": [
    "mask = np.logical_and(arr > 3, arr < 6)"
   ]
  },
  {
   "cell_type": "code",
   "execution_count": null,
   "metadata": {
    "colab": {
     "base_uri": "https://localhost:8080/"
    },
    "executionInfo": {
     "elapsed": 19,
     "status": "ok",
     "timestamp": 1747758523625,
     "user": {
      "displayName": "Garvita Aggarwal",
      "userId": "13257208684268379062"
     },
     "user_tz": -330
    },
    "id": "Vk1T0Q5pjKe1",
    "outputId": "0a7f1ded-51aa-4fad-e4f8-f9ecc7b11dd2"
   },
   "outputs": [
    {
     "data": {
      "text/plain": [
       "array([], dtype=int64)"
      ]
     },
     "execution_count": 125,
     "metadata": {},
     "output_type": "execute_result"
    }
   ],
   "source": [
    "arr[mask]"
   ]
  },
  {
   "cell_type": "code",
   "execution_count": null,
   "metadata": {
    "colab": {
     "base_uri": "https://localhost:8080/"
    },
    "executionInfo": {
     "elapsed": 13,
     "status": "ok",
     "timestamp": 1747758523640,
     "user": {
      "displayName": "Garvita Aggarwal",
      "userId": "13257208684268379062"
     },
     "user_tz": -330
    },
    "id": "qdF3lYzojLKW",
    "outputId": "b865ff5b-0ed1-47ff-81a2-ad736c2c34b2"
   },
   "outputs": [
    {
     "data": {
      "text/plain": [
       "array([ True,  True,  True])"
      ]
     },
     "execution_count": 126,
     "metadata": {},
     "output_type": "execute_result"
    }
   ],
   "source": [
    "# logical or:\n",
    "\n",
    "mask = np.logical_or(arr < 4, arr > 5)\n",
    "mask"
   ]
  },
  {
   "cell_type": "code",
   "execution_count": null,
   "metadata": {
    "colab": {
     "base_uri": "https://localhost:8080/"
    },
    "executionInfo": {
     "elapsed": 37,
     "status": "ok",
     "timestamp": 1747758523680,
     "user": {
      "displayName": "Garvita Aggarwal",
      "userId": "13257208684268379062"
     },
     "user_tz": -330
    },
    "id": "DnVDyE1VjeIF",
    "outputId": "6aa79000-e8e1-4145-f027-5e8b1a46c8e7"
   },
   "outputs": [
    {
     "data": {
      "text/plain": [
       "array([1, 2, 3])"
      ]
     },
     "execution_count": 127,
     "metadata": {},
     "output_type": "execute_result"
    }
   ],
   "source": [
    "arr[mask]"
   ]
  },
  {
   "cell_type": "code",
   "execution_count": null,
   "metadata": {
    "colab": {
     "base_uri": "https://localhost:8080/"
    },
    "executionInfo": {
     "elapsed": 39,
     "status": "ok",
     "timestamp": 1747758523722,
     "user": {
      "displayName": "Garvita Aggarwal",
      "userId": "13257208684268379062"
     },
     "user_tz": -330
    },
    "id": "zpgoUDNBjes1",
    "outputId": "7cdc70b5-9d1f-4ad3-af4c-4a07e6dc39a9"
   },
   "outputs": [
    {
     "data": {
      "text/plain": [
       "array([0, 1, 5, 0, 5])"
      ]
     },
     "execution_count": 128,
     "metadata": {},
     "output_type": "execute_result"
    }
   ],
   "source": [
    "arr2 = np.array([0, 1, 5, 0, 5])\n",
    "arr2"
   ]
  },
  {
   "cell_type": "code",
   "execution_count": null,
   "metadata": {
    "colab": {
     "base_uri": "https://localhost:8080/"
    },
    "executionInfo": {
     "elapsed": 37,
     "status": "ok",
     "timestamp": 1747758523763,
     "user": {
      "displayName": "Garvita Aggarwal",
      "userId": "13257208684268379062"
     },
     "user_tz": -330
    },
    "id": "4iignT5NkBHu",
    "outputId": "f7b15371-f6ed-4e31-a703-dfafe3337013"
   },
   "outputs": [
    {
     "name": "stdout",
     "output_type": "stream",
     "text": [
      "(array([1, 2, 4]),)\n"
     ]
    }
   ],
   "source": [
    "print(np.nonzero(arr2))"
   ]
  },
  {
   "cell_type": "code",
   "execution_count": null,
   "metadata": {
    "id": "_D2oSGmIkE2D"
   },
   "outputs": [],
   "source": [
    "# Broadcasting"
   ]
  },
  {
   "cell_type": "code",
   "execution_count": null,
   "metadata": {
    "colab": {
     "base_uri": "https://localhost:8080/"
    },
    "executionInfo": {
     "elapsed": 35,
     "status": "ok",
     "timestamp": 1747758523844,
     "user": {
      "displayName": "Garvita Aggarwal",
      "userId": "13257208684268379062"
     },
     "user_tz": -330
    },
    "id": "rhFcyfinm03U",
    "outputId": "7626a381-8f84-4a5e-fb39-fd10dae6df8f"
   },
   "outputs": [
    {
     "data": {
      "text/plain": [
       "(2, 2)"
      ]
     },
     "execution_count": 131,
     "metadata": {},
     "output_type": "execute_result"
    }
   ],
   "source": [
    "image = np.array([[200, 150], [100, 250]])\n",
    "image.shape"
   ]
  },
  {
   "cell_type": "code",
   "execution_count": null,
   "metadata": {
    "colab": {
     "base_uri": "https://localhost:8080/"
    },
    "executionInfo": {
     "elapsed": 23,
     "status": "ok",
     "timestamp": 1747758523871,
     "user": {
      "displayName": "Garvita Aggarwal",
      "userId": "13257208684268379062"
     },
     "user_tz": -330
    },
    "id": "MyaJqimDpNLY",
    "outputId": "e1ddb0aa-c356-4142-ac67-a8add578ed24"
   },
   "outputs": [
    {
     "data": {
      "text/plain": [
       "array([[250, 200],\n",
       "       [150, 300]])"
      ]
     },
     "execution_count": 132,
     "metadata": {},
     "output_type": "execute_result"
    }
   ],
   "source": [
    "brightness = image + 50\n",
    "brightness"
   ]
  },
  {
   "cell_type": "code",
   "execution_count": null,
   "metadata": {
    "id": "rVQaLP_DpTkD"
   },
   "outputs": [],
   "source": [
    "# Vectorization:\n",
    "\n",
    "# np.vectorize() -> convert a regular function to be applied on an array."
   ]
  },
  {
   "cell_type": "code",
   "execution_count": null,
   "metadata": {
    "id": "2th_J9gKqFe0"
   },
   "outputs": [],
   "source": [
    "def square(x):\n",
    "  return x*x\n",
    "\n",
    "vfunc = np.vectorize(square)"
   ]
  },
  {
   "cell_type": "code",
   "execution_count": null,
   "metadata": {
    "colab": {
     "base_uri": "https://localhost:8080/"
    },
    "executionInfo": {
     "elapsed": 18,
     "status": "ok",
     "timestamp": 1747758524057,
     "user": {
      "displayName": "Garvita Aggarwal",
      "userId": "13257208684268379062"
     },
     "user_tz": -330
    },
    "id": "3J64pPtKqQ8b",
    "outputId": "59950734-fdba-4bb8-e0dc-c417e9e031d4"
   },
   "outputs": [
    {
     "data": {
      "text/plain": [
       "array([1, 2, 3])"
      ]
     },
     "execution_count": 135,
     "metadata": {},
     "output_type": "execute_result"
    }
   ],
   "source": [
    "arr"
   ]
  },
  {
   "cell_type": "code",
   "execution_count": null,
   "metadata": {
    "colab": {
     "base_uri": "https://localhost:8080/"
    },
    "executionInfo": {
     "elapsed": 14,
     "status": "ok",
     "timestamp": 1747758524074,
     "user": {
      "displayName": "Garvita Aggarwal",
      "userId": "13257208684268379062"
     },
     "user_tz": -330
    },
    "id": "sohabomrqRzq",
    "outputId": "79a98b77-f5a0-413d-9fce-dae3fcb327c4"
   },
   "outputs": [
    {
     "name": "stdout",
     "output_type": "stream",
     "text": [
      "[1 4 9]\n"
     ]
    }
   ],
   "source": [
    "print(vfunc(arr))"
   ]
  },
  {
   "cell_type": "code",
   "execution_count": null,
   "metadata": {
    "id": "KFJQgs5FqUIo"
   },
   "outputs": [],
   "source": [
    "# Dealing With Missing values:\n",
    "\n",
    "# np.nan -> not a number."
   ]
  },
  {
   "cell_type": "code",
   "execution_count": null,
   "metadata": {
    "id": "xrmwXd2orhNI"
   },
   "outputs": [],
   "source": [
    "a = np.array([1, 2, np.nan, 4])"
   ]
  },
  {
   "cell_type": "code",
   "execution_count": null,
   "metadata": {
    "colab": {
     "base_uri": "https://localhost:8080/"
    },
    "executionInfo": {
     "elapsed": 21,
     "status": "ok",
     "timestamp": 1747758524113,
     "user": {
      "displayName": "Garvita Aggarwal",
      "userId": "13257208684268379062"
     },
     "user_tz": -330
    },
    "id": "sdCcbhflrl54",
    "outputId": "0748456e-a9e8-42c9-fad3-85d2e9cc3f97"
   },
   "outputs": [
    {
     "data": {
      "text/plain": [
       "array([ 1.,  2., nan,  4.])"
      ]
     },
     "execution_count": 139,
     "metadata": {},
     "output_type": "execute_result"
    }
   ],
   "source": [
    "a"
   ]
  },
  {
   "cell_type": "code",
   "execution_count": null,
   "metadata": {
    "id": "SM2H0IzaroFB"
   },
   "outputs": [],
   "source": [
    "# np.inf and -np.inf -> positive and negative infinites"
   ]
  },
  {
   "cell_type": "code",
   "execution_count": null,
   "metadata": {
    "id": "5N-rZZ6gr0aJ"
   },
   "outputs": [],
   "source": [
    "# np.isnan\n",
    "# np.isinf\n",
    "# np.isfinite\n",
    "\n",
    "# --> these are the functions used to detect any null values, infinte value or fnite value"
   ]
  },
  {
   "cell_type": "code",
   "execution_count": null,
   "metadata": {
    "colab": {
     "base_uri": "https://localhost:8080/"
    },
    "executionInfo": {
     "elapsed": 31,
     "status": "ok",
     "timestamp": 1747758524163,
     "user": {
      "displayName": "Garvita Aggarwal",
      "userId": "13257208684268379062"
     },
     "user_tz": -330
    },
    "id": "6VyN8N2EsGXG",
    "outputId": "b99cf6f4-724c-4006-a804-d1543768a16c"
   },
   "outputs": [
    {
     "name": "stdout",
     "output_type": "stream",
     "text": [
      "[False False  True False]\n"
     ]
    }
   ],
   "source": [
    "print(np.isnan(a))"
   ]
  },
  {
   "cell_type": "code",
   "execution_count": null,
   "metadata": {
    "id": "xNAyfVZWsVt8"
   },
   "outputs": [],
   "source": [
    "b = np.array([1, np.nan, np.inf, 10.2, 40])"
   ]
  },
  {
   "cell_type": "code",
   "execution_count": null,
   "metadata": {
    "colab": {
     "base_uri": "https://localhost:8080/"
    },
    "executionInfo": {
     "elapsed": 22,
     "status": "ok",
     "timestamp": 1747758524198,
     "user": {
      "displayName": "Garvita Aggarwal",
      "userId": "13257208684268379062"
     },
     "user_tz": -330
    },
    "id": "x1MQswgTsiX6",
    "outputId": "3e91e899-4fc9-44d9-fed9-9a5b6642e7fa"
   },
   "outputs": [
    {
     "name": "stdout",
     "output_type": "stream",
     "text": [
      "[False False  True False False]\n"
     ]
    }
   ],
   "source": [
    "print(np.isinf(b))"
   ]
  },
  {
   "cell_type": "code",
   "execution_count": null,
   "metadata": {
    "id": "2fIQCIGosk8k"
   },
   "outputs": [],
   "source": [
    "new_b = np.nan_to_num(b) # remove Nan/ infinite values."
   ]
  },
  {
   "cell_type": "code",
   "execution_count": null,
   "metadata": {
    "colab": {
     "base_uri": "https://localhost:8080/"
    },
    "executionInfo": {
     "elapsed": 25,
     "status": "ok",
     "timestamp": 1747758524234,
     "user": {
      "displayName": "Garvita Aggarwal",
      "userId": "13257208684268379062"
     },
     "user_tz": -330
    },
    "id": "ymWGxAIPtFe0",
    "outputId": "7e7b407c-9718-448a-fdcd-95299aac66b0"
   },
   "outputs": [
    {
     "data": {
      "text/plain": [
       "array([1.00000000e+000, 0.00000000e+000, 1.79769313e+308, 1.02000000e+001,\n",
       "       4.00000000e+001])"
      ]
     },
     "execution_count": 146,
     "metadata": {},
     "output_type": "execute_result"
    }
   ],
   "source": [
    "new_b"
   ]
  },
  {
   "cell_type": "code",
   "execution_count": null,
   "metadata": {
    "id": "-PUOwIh_tGPl"
   },
   "outputs": [],
   "source": []
  }
 ],
 "metadata": {
  "colab": {
   "authorship_tag": "ABX9TyM29CjwKD8Rf90U34QTxzMu",
   "provenance": []
  },
  "kernelspec": {
   "display_name": "base",
   "language": "python",
   "name": "python3"
  },
  "language_info": {
   "codemirror_mode": {
    "name": "ipython",
    "version": 3
   },
   "file_extension": ".py",
   "mimetype": "text/x-python",
   "name": "python",
   "nbconvert_exporter": "python",
   "pygments_lexer": "ipython3",
   "version": "3.10.9"
  }
 },
 "nbformat": 4,
 "nbformat_minor": 0
}
